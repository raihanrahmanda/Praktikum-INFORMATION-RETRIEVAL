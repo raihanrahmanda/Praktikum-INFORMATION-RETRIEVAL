{
 "cells": [
  {
   "cell_type": "code",
   "execution_count": 25,
   "metadata": {},
   "outputs": [
    {
     "name": "stdout",
     "output_type": "stream",
     "text": [
      "{'kembang': [1, 2], 'sistem': [1, 3], 'informasi': [1], 'jadwal': [1], 'model': [2], 'analisis': [2, 3], 'sentimen': [2], 'berita': [2], 'input': [3], 'output': [3]}\n"
     ]
    }
   ],
   "source": [
    "from Sastrawi.Stemmer.StemmerFactory import StemmerFactory\n",
    "\n",
    "doc1_term = [\"pengembangan\", \"sistem\", \"informasi\", \"penjadwalan\"]\n",
    "doc2_term = [\"pengembangan\", \"model\", \"analisis\", \"sentimen\", \"berita\"]\n",
    "doc3_term = [\"analisis\", \"sistem\", \"input\", \"output\"]\n",
    "corpus_term = [doc1_term, doc2_term, doc3_term]\n",
    "\n",
    "inverted_index = {}\n",
    "for i in range(len(corpus_term)):\n",
    "    for item in corpus_term[i]:\n",
    "        stemmer = StemmerFactory().create_stemmer()\n",
    "        item = stemmer.stem(item)\n",
    "        if item not in inverted_index:\n",
    "            inverted_index[item] = []\n",
    "        if item in inverted_index:\n",
    "            inverted_index[item].append(i+1)\n",
    "print(inverted_index)"
   ]
  },
  {
   "cell_type": "code",
   "execution_count": 11,
   "metadata": {},
   "outputs": [
    {
     "name": "stdout",
     "output_type": "stream",
     "text": [
      "term tersebut berada pada dokumen ke- [3]\n",
      "term tersebut berada pada dokumen ke- [1]\n",
      "term tersebut berada pada dokumen ke- [1]\n"
     ]
    }
   ],
   "source": [
    "def AND(posting1, posting2, posting3=None):\n",
    "    p1, p2, p3 = 0, 0, 0\n",
    "    result = []\n",
    "    \n",
    "    if posting3 is None:\n",
    "        # If there are only two input postings, AND them as before\n",
    "        while p1 < len(posting1) and p2 < len(posting2):\n",
    "            if posting1[p1] == posting2[p2]:\n",
    "                result.append(posting1[p1])\n",
    "                p1 += 1\n",
    "                p2 += 1\n",
    "            elif posting1[p1] > posting2[p2]:\n",
    "                p2 += 1\n",
    "            else:\n",
    "                p1 += 1\n",
    "    else:\n",
    "        # If there are three input postings, AND them together\n",
    "        while p1 < len(posting1) and p2 < len(posting2) and p3 < len(posting3):\n",
    "            if posting1[p1] == posting2[p2] == posting3[p3]:\n",
    "                result.append(posting1[p1])\n",
    "                p1 += 1\n",
    "                p2 += 1\n",
    "                p3 += 1\n",
    "            else:\n",
    "                min_val = min(posting1[p1], posting2[p2], posting3[p3])\n",
    "                if posting1[p1] == min_val:\n",
    "                    p1 += 1\n",
    "                if posting2[p2] == min_val:\n",
    "                    p2 += 1\n",
    "                if posting3[p3] == min_val:\n",
    "                    p3 += 1\n",
    "\n",
    "    return result\n",
    "\n",
    "\n",
    "\n",
    "hasil1 = AND(inverted_index['sistem'],inverted_index['analisis'])\n",
    "print(\"term tersebut berada pada dokumen ke-\", hasil1)\n",
    "\n",
    "hasil2 = AND(inverted_index['sistem'],inverted_index['informasi'])\n",
    "print(\"term tersebut berada pada dokumen ke-\", hasil2)\n",
    "\n",
    "hasil3 = AND(inverted_index['sistem'],inverted_index['informasi'],inverted_index['jadwal'])\n",
    "print(\"term tersebut berada pada dokumen ke-\", hasil3)\n",
    "\n"
   ]
  },
  {
   "cell_type": "code",
   "execution_count": 14,
   "metadata": {},
   "outputs": [
    {
     "name": "stdout",
     "output_type": "stream",
     "text": [
      "term tersebut berada pada dokumen ke- [1, 2, 3]\n",
      "term tersebut berada pada dokumen ke- [1, 3]\n"
     ]
    }
   ],
   "source": [
    "def OR(posting1, posting2):\n",
    "    p1 = 0\n",
    "    p2 = 0\n",
    "    result = list()\n",
    "    while p1 < len(posting1) and p2 < len(posting2):\n",
    "        if posting1[p1] == posting2[p2]:\n",
    "            result.append(posting1[p1])\n",
    "            p1 += 1\n",
    "            p2 += 1\n",
    "        elif posting1[p1] > posting2[p2]:\n",
    "            result.append(posting2[p2])\n",
    "            p2 += 1\n",
    "        else:\n",
    "            result.append(posting1[p1])\n",
    "            p1 += 1\n",
    "    while p1 < len(posting1):\n",
    "        result.append(posting1[p1])\n",
    "        p1 += 1\n",
    "    while p2 < len(posting2):\n",
    "        result.append(posting2[p2])\n",
    "        p2 += 1\n",
    "    return result\n",
    "\n",
    "hasil1 = OR(inverted_index['sistem'],inverted_index['analisis'])\n",
    "print(\"term tersebut berada pada dokumen ke-\", hasil1)\n",
    "\n",
    "hasil2 = OR(inverted_index['sistem'],inverted_index['informasi'])\n",
    "print(\"term tersebut berada pada dokumen ke-\", hasil2)"
   ]
  },
  {
   "cell_type": "code",
   "execution_count": 28,
   "metadata": {},
   "outputs": [
    {
     "name": "stdout",
     "output_type": "stream",
     "text": [
      "term tersebut berada pada dokumen ke- [2]\n",
      "term tersebut berada pada dokumen ke- [2, 3]\n"
     ]
    }
   ],
   "source": [
    "NUM_OF_DOCS = 3\n",
    "\n",
    "def NOT(posting):\n",
    "    result = list()\n",
    "    i = 1\n",
    "    for item in posting:\n",
    "        while i < item:\n",
    "            result.append(i)\n",
    "            i += 1\n",
    "        else:\n",
    "            i += 1\n",
    "    else:\n",
    "        while i <= NUM_OF_DOCS:\n",
    "            result.append(i)\n",
    "            i += 1\n",
    "    return result\n",
    "\n",
    "hasil1 = NOT(inverted_index['sistem'])\n",
    "print(\"term tersebut berada pada dokumen ke-\", hasil1)\n",
    "\n",
    "hasil2 = NOT(inverted_index['informasi'])\n",
    "print(\"term tersebut berada pada dokumen ke-\", hasil2)"
   ]
  }
 ],
 "metadata": {
  "kernelspec": {
   "display_name": "base",
   "language": "python",
   "name": "python3"
  },
  "language_info": {
   "codemirror_mode": {
    "name": "ipython",
    "version": 3
   },
   "file_extension": ".py",
   "mimetype": "text/x-python",
   "name": "python",
   "nbconvert_exporter": "python",
   "pygments_lexer": "ipython3",
   "version": "3.11.3"
  },
  "orig_nbformat": 4
 },
 "nbformat": 4,
 "nbformat_minor": 2
}
