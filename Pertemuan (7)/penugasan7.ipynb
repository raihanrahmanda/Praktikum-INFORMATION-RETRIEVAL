{
 "cells": [
  {
   "cell_type": "code",
   "execution_count": 1,
   "metadata": {},
   "outputs": [],
   "source": [
    "# import library yang dibutuhkan\n",
    "import os\n",
    "import re\n",
    "import math\n",
    "from spacy.lang.id import Indonesian\n",
    "from Sastrawi.Stemmer.StemmerFactory import StemmerFactory\n",
    "from spacy.lang.id.stop_words import STOP_WORDS\n",
    "\n",
    "import matplotlib.pyplot as plt\n",
    "from sklearn.decomposition import TruncatedSVD\n",
    "\n",
    "# path berisi lokasi file-file berita\n",
    "path = \"D:/RAIHAN STIS/Perkuliahan/SEMESTER 5/Praktikum INFORMATION RETRIEVAL/Pertemuan (2)/berita\"\n",
    "\n",
    "nlp = Indonesian()\n",
    "\n",
    "# cleaning file berita\n",
    "berita = []\n",
    "for file_name in sorted(os.listdir(path)):\n",
    "    file_path = os.path.join(path, file_name)\n",
    "\n",
    "    with open(file_path, 'r') as f:\n",
    "        clean_txt = re.sub(\"http\\S+\", ' ', f.read())\n",
    "        clean_txt = re.sub(\"[^\\w\\s0-9]|['\\d+']|[\\'\\\",.!?:;<>()\\[\\]{}@#$%^&*=_+/\\\\\\\\|~-]]|(\\'\\')\", ' ', clean_txt)\n",
    "        clean_txt = re.sub(\"[\\n\\n]\", ' ', clean_txt)\n",
    "        clean_txt = re.sub(r'\\s+', ' ', clean_txt).strip()\n",
    "        berita.append(clean_txt)\n",
    "\n",
    "# membuat dictionary yang berisi nomor dokumen dan isinya\n",
    "doc_dict = {}\n",
    "for i in range(1, len(berita) + 1):\n",
    "    words = berita[i - 1].split()\n",
    "    filtered_words = [word for word in words if word.lower() not in STOP_WORDS]\n",
    "    stemming = StemmerFactory().create_stemmer()\n",
    "    stemmed_words = [stemming.stem(word) for word in filtered_words]\n",
    "\n",
    "    doc_dict[i] = \" \".join(stemmed_words)\n",
    "\n",
    "# membuat inverted index\n",
    "token_arrays = []\n",
    "for doc in berita:\n",
    "    text_low = doc.lower()\n",
    "    nlp_doc = nlp(text_low)\n",
    "    token_doc = [token.text for token in nlp_doc]\n",
    "    token_stpwords_tugas = [w for w in token_doc if w not in STOP_WORDS]\n",
    "    token_arrays.append(token_stpwords_tugas)\n",
    "\n",
    "inverted_index = {}\n",
    "for i in range(len(token_arrays)):\n",
    "    for item in token_arrays[i]:\n",
    "        item = stemming.stem(item)\n",
    "        if item not in inverted_index:\n",
    "            inverted_index[item] = []\n",
    "        if (item in inverted_index) and ((i+1) not in inverted_index[item]):\n",
    "            inverted_index[item].append(i+1)\n",
    "\n",
    "vocab = list(inverted_index.keys())\n",
    "\n",
    "def termFrequencyInDoc(vocab, doc_dict):\n",
    "    tf_docs = {}\n",
    "    for doc_id in doc_dict.keys():\n",
    "        tf_docs[doc_id] = {}\n",
    "    for word in vocab:\n",
    "        for doc_id,doc in doc_dict.items():\n",
    "            tf_docs[doc_id][word] = doc.count(word)\n",
    "    return tf_docs\n",
    "\n",
    "def tokenisasi(text):\n",
    "    tokens = text.split(\" \")\n",
    "    return tokens\n",
    "\n",
    "def wordDocFre(vocab, doc_dict):\n",
    "  df = {}\n",
    "  for word in vocab:\n",
    "    frq = 0\n",
    "    for doc in doc_dict.values():\n",
    "      if word in tokenisasi(doc):\n",
    "        frq = frq + 1\n",
    "    df[word] = frq\n",
    "  return df\n",
    "\n",
    "import numpy as np\n",
    "def inverseDocFre(vocab,doc_fre,length):\n",
    "  idf= {}\n",
    "  for word in vocab:\n",
    "    idf[word] = idf[word] = 1 + np.log((length + 1) / (doc_fre[word]+1))\n",
    "  return idf\n",
    "\n",
    "# vektor space model\n",
    "def tfidf(vocab,tf,idf_scr,doc_dict):\n",
    "  tf_idf_scr = {}\n",
    "  for doc_id in doc_dict.keys():\n",
    "    tf_idf_scr[doc_id] = {}\n",
    "  for word in vocab:\n",
    "    for doc_id,doc in doc_dict.items():\n",
    "      tf_idf_scr[doc_id][word] = tf[doc_id][word] * idf_scr[word]\n",
    "  return tf_idf_scr\n",
    "\n",
    "tf_idf = tfidf(vocab, termFrequencyInDoc(vocab, doc_dict), inverseDocFre(vocab, wordDocFre(vocab, doc_dict), len(doc_dict)), doc_dict)\n",
    "\n",
    "# Term - Document Matrix\n",
    "TD = np.zeros((len(vocab), len(doc_dict)))\n",
    "for word in vocab:\n",
    "  for doc_id,doc in tf_idf.items():\n",
    "    ind1 = vocab.index(word)\n",
    "    ind2 = list(tf_idf.keys()).index(doc_id)\n",
    "    TD[ind1][ind2] = tf_idf[doc_id][word]\n",
    "\n",
    "query = \"vaksin corona jakarta\"\n",
    "def termFrequency(vocab, query):\n",
    "    tf_query = {}\n",
    "    for word in vocab:\n",
    "        tf_query[word] = query.count(word)\n",
    "    return tf_query\n",
    "\n",
    "tf_query = termFrequency(vocab, query)\n",
    "\n",
    "idf = inverseDocFre(vocab, wordDocFre(vocab, doc_dict), len(doc_dict))\n",
    "\n",
    "# Term - Query Matrix\n",
    "TQ = np.zeros((len(vocab), 1)) #hanya 1 query\n",
    "for word in vocab:\n",
    "    ind1 = vocab.index(word)\n",
    "    TQ[ind1][0] = tf_query[word]*idf[word]\n",
    "\n",
    "\n",
    "def cosine_sim(vec1, vec2):\n",
    "    vec1 = list(vec1)\n",
    "    vec2 = list(vec2)\n",
    "    dot_prod = 0\n",
    "    for i, v in enumerate(vec1):\n",
    "        dot_prod += v * vec2[i]\n",
    "    mag_1 = math.sqrt(sum([x**2 for x in vec1]))\n",
    "    mag_2 = math.sqrt(sum([x**2 for x in vec2]))\n",
    "\n",
    "    return dot_prod / (mag_1 * mag_2)\n",
    "\n",
    "from collections import OrderedDict\n",
    "def exact_top_k(doc_dict, TD, q, k):\n",
    "    relevance_scores = {}\n",
    "    i = 0\n",
    "    for doc_id in doc_dict.keys():\n",
    "        relevance_scores[doc_id] = cosine_sim(q, TD[:, i])\n",
    "        i = i + 1\n",
    "    \n",
    "    sorted_value = OrderedDict(sorted(relevance_scores.items(), key=lambda x: x[1], reverse = True))\n",
    "    top_k = {j: sorted_value[j] for j in list(sorted_value)[:k]}\n",
    "    return top_k"
   ]
  },
  {
   "cell_type": "code",
   "execution_count": 2,
   "metadata": {},
   "outputs": [
    {
     "name": "stdout",
     "output_type": "stream",
     "text": [
      "Matriks DT: \n",
      "[[ 1.69314718  2.09861229  2.          2.09861229  2.09861229  2.09861229\n",
      "   2.09861229  2.09861229  1.40546511  1.          2.09861229  1.69314718\n",
      "   4.19722458  2.09861229  2.09861229  2.09861229  2.09861229  6.29583687\n",
      "   6.29583687  2.09861229  2.09861229  1.69314718  2.09861229  4.19722458\n",
      "   7.02732554  2.09861229  2.09861229  2.09861229  2.09861229  2.09861229\n",
      "   2.09861229  2.09861229  2.09861229  2.09861229 29.38057204  2.09861229\n",
      "   1.69314718  1.69314718  2.09861229  2.09861229  2.09861229  1.69314718\n",
      "   2.09861229  1.69314718  2.09861229  2.09861229  2.09861229  0.\n",
      "   0.          0.          0.          0.          0.          0.\n",
      "   0.          0.          0.          0.          0.          0.\n",
      "   0.          0.          0.          0.          0.          0.\n",
      "   0.          0.          0.          0.          0.          0.\n",
      "   0.          0.          0.          0.          0.          0.\n",
      "   2.09861229  0.          0.          0.          0.          0.\n",
      "   0.          0.          0.          0.          0.          0.\n",
      "   0.          0.          0.          0.          0.          0.\n",
      "   0.          0.          0.          0.          0.          0.\n",
      "   0.          0.          0.          0.          0.          0.\n",
      "   8.39444915  0.          0.          0.          0.          0.\n",
      "   0.          0.          0.          0.          0.          0.\n",
      "   0.          0.          0.          0.          0.          0.\n",
      "   0.          0.          0.          0.          0.          0.\n",
      "   0.          0.          0.          0.        ]\n",
      " [ 0.          0.          6.          0.          0.          0.\n",
      "   0.          0.          0.          1.          0.          1.69314718\n",
      "   0.          0.          0.          0.          0.          0.\n",
      "   0.          0.          0.          1.69314718  0.          0.\n",
      "   4.21639532  0.          0.          0.          0.          0.\n",
      "   0.          0.          0.          0.          4.19722458  0.\n",
      "   0.          0.          0.          0.          0.          0.\n",
      "   0.          0.          0.          0.          0.         10.15888308\n",
      "   2.09861229  2.09861229  2.09861229  2.09861229  3.38629436  1.69314718\n",
      "   1.69314718  2.81093022  2.09861229  2.09861229  6.29583687  2.09861229\n",
      "   1.69314718  1.69314718  1.69314718  1.69314718  1.69314718  1.69314718\n",
      "   1.69314718  1.69314718  2.09861229  1.69314718  2.09861229  0.\n",
      "   0.          0.          0.          0.          0.          0.\n",
      "   0.          0.          0.          0.          0.          0.\n",
      "   0.          0.          0.          0.          0.          0.\n",
      "   0.          0.          0.          0.          0.          0.\n",
      "   0.          0.          0.          0.          0.          0.\n",
      "   0.          0.          0.          0.          0.          0.\n",
      "  14.69028602  0.          0.          0.          0.          0.\n",
      "   0.          0.          0.          0.          0.          0.\n",
      "   0.          0.          0.          0.          0.          0.\n",
      "   0.          0.          0.          0.          0.          0.\n",
      "   0.          0.          0.          0.        ]\n",
      " [ 0.          0.          4.          0.          0.          0.\n",
      "   0.          0.          1.40546511  1.          0.          0.\n",
      "   0.          0.          0.          0.          0.          0.\n",
      "   0.          0.          0.          0.          0.          0.\n",
      "  11.24372086  0.          0.          0.          0.          0.\n",
      "   0.          0.          0.          0.          8.39444915  0.\n",
      "   0.          0.          0.          0.          0.          0.\n",
      "   0.          0.          0.          0.          0.         10.15888308\n",
      "   0.          0.          0.          0.          3.38629436  5.07944154\n",
      "   1.69314718  2.81093022  0.          0.          0.          0.\n",
      "   1.69314718  1.69314718  1.69314718  1.69314718  1.69314718  1.69314718\n",
      "   1.69314718  1.69314718  0.          1.69314718  0.          2.09861229\n",
      "   2.09861229  4.19722458  5.62186043  4.21639532  2.09861229  2.09861229\n",
      "   2.09861229  1.69314718  3.38629436  6.29583687  1.69314718  2.09861229\n",
      "   2.09861229  2.09861229  2.09861229  2.09861229  4.19722458  2.09861229\n",
      "   2.09861229  2.09861229  2.09861229  2.09861229  0.          0.\n",
      "   0.          0.          0.          0.          0.          0.\n",
      "   0.          0.          0.          0.          0.          0.\n",
      "  10.49306144  0.          0.          0.          0.          0.\n",
      "   0.          0.          0.          0.          0.          0.\n",
      "   0.          0.          0.          0.          0.          0.\n",
      "   0.          0.          0.          0.          0.          0.\n",
      "   0.          0.          0.          0.        ]\n",
      " [ 0.          0.          1.          0.          0.          0.\n",
      "   0.          0.          1.40546511  4.          0.          0.\n",
      "   0.          0.          0.          0.          0.          0.\n",
      "   0.          0.          0.          0.          0.          0.\n",
      "   9.83825576  0.          0.          0.          0.          0.\n",
      "   0.          0.          0.          0.          2.09861229  0.\n",
      "   1.69314718  0.          0.          0.          0.          1.69314718\n",
      "   0.          3.38629436  0.          0.          0.          0.\n",
      "   0.          0.          0.          0.          0.          0.\n",
      "   0.          1.40546511  0.          0.          0.          0.\n",
      "   0.          0.          0.          0.          0.          0.\n",
      "   0.          0.          0.          0.          0.          0.\n",
      "   0.          0.          8.43279065  5.62186043  0.          0.\n",
      "   0.          1.69314718  0.          0.          0.          0.\n",
      "   0.          0.          0.          0.          0.          0.\n",
      "   0.          0.          0.          0.          2.09861229  8.39444915\n",
      "   2.09861229  4.19722458  2.09861229  4.19722458  2.09861229  1.69314718\n",
      "   2.09861229  2.09861229  2.09861229  2.09861229  2.09861229  2.09861229\n",
      "   2.09861229  0.          0.          0.          0.          0.\n",
      "   0.          0.          0.          0.          0.          0.\n",
      "   0.          0.          0.          0.          0.          0.\n",
      "   0.          0.          0.          0.          0.          0.\n",
      "   0.          0.          0.          0.        ]\n",
      " [ 1.69314718  0.          3.          0.          0.          0.\n",
      "   0.          0.          0.          1.          0.          0.\n",
      "   0.          0.          0.          0.          0.          0.\n",
      "   0.          0.          0.          0.          0.          0.\n",
      "   5.62186043  0.          0.          0.          0.          0.\n",
      "   0.          0.          0.          0.         16.78889831  0.\n",
      "   0.          1.69314718  0.          0.          0.          0.\n",
      "   0.          0.          0.          0.          0.          0.\n",
      "   0.          0.          0.          0.          0.          0.\n",
      "   0.          0.          0.          4.19722458  0.          0.\n",
      "   0.          0.          1.69314718  0.          0.          0.\n",
      "   0.          0.          0.          0.          0.          0.\n",
      "   0.          0.          2.81093022  4.21639532  0.          0.\n",
      "   0.          0.          1.69314718  0.          1.69314718  0.\n",
      "   0.          0.          0.          0.          0.          0.\n",
      "   0.          0.          0.          0.          0.          0.\n",
      "   0.          0.          0.          0.          0.          1.69314718\n",
      "   0.          0.          0.          0.          0.          0.\n",
      "  16.78889831  4.19722458  4.19722458  2.09861229  2.09861229  2.09861229\n",
      "   2.09861229  2.09861229  2.09861229  4.19722458  4.19722458  2.09861229\n",
      "   2.09861229  2.09861229  2.09861229  2.09861229  2.09861229  2.09861229\n",
      "   2.09861229  2.09861229  2.09861229  2.09861229  2.09861229  2.09861229\n",
      "   2.09861229  2.09861229  2.09861229  2.09861229]]\n",
      "\n",
      "Matriks QT yang sudah direduksi:\n",
      "[[ 0.37913066 -0.78795941]]\n",
      "\n",
      "Matriks DT yang sudah direduksi:\n",
      "[[ 30.66987777  16.7968191 ]\n",
      " [ 15.60021358 -11.67467357]\n",
      " [ 20.47325609 -13.83490436]\n",
      " [  8.43813508  -6.30288316]\n",
      " [ 25.30109452   0.13442628]]\n"
     ]
    },
    {
     "data": {
      "image/png": "[encoded data removed]",
      "text/plain": [
       "<Figure size 640x480 with 1 Axes>"
      ]
     },
     "metadata": {},
     "output_type": "display_data"
    }
   ],
   "source": [
    "import matplotlib.pyplot as plt\n",
    "from sklearn.decomposition import TruncatedSVD\n",
    "\n",
    "DT = TD.transpose()\n",
    "print(\"Matriks DT: \")\n",
    "print(DT)\n",
    "model = TruncatedSVD(n_components=2, random_state=7).fit(DT)\n",
    "DT_reduced = model.transform(DT)\n",
    "QT_reduced = model.transform(TQ.transpose())\n",
    "\n",
    "print(\"\\nMatriks QT yang sudah direduksi:\")\n",
    "print(QT_reduced)\n",
    "print(\"\\nMatriks DT yang sudah direduksi:\")\n",
    "print(DT_reduced)\n",
    "\n",
    "plt.scatter(DT_reduced[:, 0], DT_reduced[:, 1])\n",
    "plt.scatter(QT_reduced[:, 0], QT_reduced[:, 1], color=[\"red\"])\n",
    "\n",
    "labels=list(doc_dict.keys())\n",
    "for i, txt in enumerate(labels):\n",
    "    plt.annotate(txt, (DT_reduced[i, 0], DT_reduced[i, 1]))\n",
    "\n",
    "plt.annotate(\"query\", (QT_reduced[0, 0], QT_reduced[0, 1]))\n",
    "plt.show()"
   ]
  },
  {
   "cell_type": "code",
   "execution_count": 3,
   "metadata": {},
   "outputs": [
    {
     "name": "stdout",
     "output_type": "stream",
     "text": [
      "{2: 0.305441706917711, 3: 0.30457740843687225, 4: 0.07688776837468171, 5: 0.051488176982188355, 1: 0.010832772328566935}\n"
     ]
    }
   ],
   "source": [
    "top_5 = exact_top_k(doc_dict, TD, TQ[:, 0], 5)\n",
    "print(top_5)"
   ]
  },
  {
   "cell_type": "code",
   "execution_count": 12,
   "metadata": {},
   "outputs": [
    {
     "name": "stdout",
     "output_type": "stream",
     "text": [
      "[1, 2, 3, 4, 5]\n"
     ]
    }
   ],
   "source": [
    "# rel_vecs_id = [\"2\",\"3\"]\n",
    "# nrel_vecs_id = [\"1\",\"4\",\"5\"]\n",
    "# doc_ids = [\"1\",\"2\",\"3\",\"4\",\"5\"]\n",
    "\n",
    "rel_vecs_id = [2,3]\n",
    "nrel_vecs_id = [3,4,5]\n",
    "doc_ids = list(doc_dict.keys())\n",
    "\n",
    "rel_vecs = []\n",
    "for doc in rel_vecs_id:\n",
    "    rel_vecs.append(DT[doc_ids.index(doc),:])\n",
    "\n",
    "nrel_vecs = []\n",
    "for doc in nrel_vecs_id:\n",
    "    nrel_vecs.append(DT[doc_ids.index(doc),:])"
   ]
  },
  {
   "cell_type": "code",
   "execution_count": 5,
   "metadata": {},
   "outputs": [],
   "source": [
    "query_vecs = TQ.transpose()\n",
    "alpha = 1\n",
    "beta = 0.75\n",
    "gamma = 0.15\n",
    "\n",
    "# Update query vectors with Rocchio algorithm\n",
    "query_vecs = alpha * query_vecs + beta * np.mean(rel_vecs, axis=0) - gamma * np.mean(nrel_vecs, axis=0)\n",
    "query_vecs[query_vecs<0] = 0 #negative value => 0"
   ]
  },
  {
   "cell_type": "code",
   "execution_count": 6,
   "metadata": {},
   "outputs": [
    {
     "name": "stdout",
     "output_type": "stream",
     "text": [
      "{2: 0.9098976924594369, 3: 0.8947332898101339, 5: 0.5338741830247885, 1: 0.3727910067294201, 4: 0.304891983481142}\n"
     ]
    }
   ],
   "source": [
    "top_5 = exact_top_k(doc_dict, TD, query_vecs[0, :].transpose(), 5)\n",
    "print(top_5)"
   ]
  },
  {
   "cell_type": "code",
   "execution_count": 7,
   "metadata": {},
   "outputs": [
    {
     "data": {
      "image/png": "[encoded data removed]",
      "text/plain": [
       "<Figure size 640x480 with 1 Axes>"
      ]
     },
     "metadata": {},
     "output_type": "display_data"
    }
   ],
   "source": [
    "QT1_reduced = model.transform(query_vecs)\n",
    "plt.scatter(DT_reduced[:, 0], DT_reduced[:, 1])\n",
    "plt.scatter(QT_reduced[:, 0], QT_reduced[:, 1], color=[\"red\"])\n",
    "plt.scatter(QT1_reduced[:, 0], QT1_reduced[:, 1], color=[\"green\"])\n",
    "\n",
    "doc_ids=list(doc_dict.keys())\n",
    "for i, txt in enumerate(doc_ids):\n",
    "    plt.annotate(txt, (DT_reduced[i, 0], DT_reduced[i, 1]))\n",
    "    \n",
    "plt.annotate(\"query\", (QT_reduced[0, 0], QT_reduced[0, 1]))\n",
    "plt.annotate(\"new query\", (QT1_reduced[:, 0], QT1_reduced[:, 1]))\n",
    "plt.show()"
   ]
  },
  {
   "cell_type": "code",
   "execution_count": 8,
   "metadata": {},
   "outputs": [],
   "source": [
    "def tokenisasi(text):\n",
    "    tokens = text.split(\" \")\n",
    "    return tokens\n",
    "\n",
    "def stemming(text):\n",
    "    from Sastrawi.Stemmer.StemmerFactory import StemmerFactory\n",
    "    # create stemmer\n",
    "    factory = StemmerFactory()\n",
    "    stemmer = factory.create_stemmer()\n",
    "    # stemming process\n",
    "    output = stemmer.stem(text)\n",
    "    return output"
   ]
  },
  {
   "cell_type": "code",
   "execution_count": 9,
   "metadata": {},
   "outputs": [
    {
     "name": "stdout",
     "output_type": "stream",
     "text": [
      "virus corona \n"
     ]
    }
   ],
   "source": [
    "def elim_query(query, idf_dict, idf_score):\n",
    "    for term in tokenisasi(query):\n",
    "        if idf_dict[stemming(term)]<idf_score:\n",
    "            query = query.replace(term+\" \", \"\")\n",
    "            query = query.replace(term, \"\")\n",
    "    return query\n",
    "\n",
    "query1 = \"virus corona jakarta\"\n",
    "query1 = elim_query(query1, idf, 1.5)\n",
    "print(query1)"
   ]
  },
  {
   "cell_type": "code",
   "execution_count": 10,
   "metadata": {},
   "outputs": [
    {
     "name": "stderr",
     "output_type": "stream",
     "text": [
      "[nltk_data] Downloading package wordnet to\n",
      "[nltk_data]     C:\\Users\\LENOVO\\AppData\\Roaming\\nltk_data...\n",
      "[nltk_data]   Package wordnet is already up-to-date!\n",
      "[nltk_data] Downloading package omw-1.4 to\n",
      "[nltk_data]     C:\\Users\\LENOVO\\AppData\\Roaming\\nltk_data...\n",
      "[nltk_data]   Package omw-1.4 is already up-to-date!\n"
     ]
    },
    {
     "data": {
      "text/plain": [
       "True"
      ]
     },
     "execution_count": 10,
     "metadata": {},
     "output_type": "execute_result"
    }
   ],
   "source": [
    "import nltk\n",
    "nltk.download('wordnet')\n",
    "nltk.download('omw-1.4')"
   ]
  },
  {
   "cell_type": "code",
   "execution_count": 11,
   "metadata": {},
   "outputs": [
    {
     "name": "stdout",
     "output_type": "stream",
     "text": [
      "{'computer_virus', 'virus'}\n",
      "{'corposant', \"Saint_Elmo's_fire\", 'electric_glow', 'corona', 'corona_discharge', \"St._Elmo's_fire\", \"Saint_Ulmo's_light\", 'aureole', \"Saint_Elmo's_light\", \"Saint_Ulmo's_fire\"}\n",
      "set()\n",
      "['computer_virus', 'virus', 'corposant', \"Saint_Elmo's_fire\", 'electric_glow', 'corona', 'corona_discharge', \"St._Elmo's_fire\", \"Saint_Ulmo's_light\", 'aureole', \"Saint_Elmo's_light\", \"Saint_Ulmo's_fire\"]\n",
      "virus corona  computer virus virus corposant Saint Elmo's fire electric glow corona corona discharge St. Elmo's fire Saint Ulmo's light aureole Saint Elmo's light Saint Ulmo's fire\n"
     ]
    }
   ],
   "source": [
    "from itertools import chain\n",
    "from nltk.corpus import wordnet\n",
    "\n",
    "query = query1\n",
    "\n",
    "expand_list = []\n",
    "for term in query.split(\" \"):\n",
    "    synonyms = wordnet.synsets(term)\n",
    "    lemmas = set(chain.from_iterable([word.lemma_names() for word in\n",
    "    synonyms]))\n",
    "    print(lemmas)\n",
    "    expand_list = expand_list + list(lemmas)\n",
    "    \n",
    "print(expand_list)\n",
    "\n",
    "query_expand = query + \" \" + (\" \".join(expand_list)).replace(\"_\", \" \")\n",
    "print(query_expand)"
   ]
  }
 ],
 "metadata": {
  "kernelspec": {
   "display_name": "base",
   "language": "python",
   "name": "python3"
  },
  "language_info": {
   "codemirror_mode": {
    "name": "ipython",
    "version": 3
   },
   "file_extension": ".py",
   "mimetype": "text/x-python",
   "name": "python",
   "nbconvert_exporter": "python",
   "pygments_lexer": "ipython3",
   "version": "3.11.3"
  }
 },
 "nbformat": 4,
 "nbformat_minor": 2
}
