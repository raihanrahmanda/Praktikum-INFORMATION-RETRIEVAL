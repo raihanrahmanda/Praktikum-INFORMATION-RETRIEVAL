{
 "cells": [
  {
   "cell_type": "markdown",
   "metadata": {},
   "source": [
    "# Praktikum 10 Teks Classification: Naive Bayes\n",
    "\n",
    "<pre>\n",
    "Nama    : Raihan Rahmanda Junianto\n",
    "NIM     : 222112303\n",
    "Kelas   : 3SD2\n",
    "</pre>\n",
    "\n",
    "<hr>"
   ]
  },
  {
   "cell_type": "markdown",
   "metadata": {},
   "source": [
    "## A. Penyiapan Library dan Dataset"
   ]
  },
  {
   "cell_type": "code",
   "execution_count": 1,
   "metadata": {},
   "outputs": [],
   "source": [
    "### 1. Tahap Persiapan\n",
    "# Import package/library yang diperlukan\n",
    "import pandas as pd\n",
    "import numpy as np\n",
    "import seaborn as sns\n",
    "import matplotlib.pyplot as plt\n",
    "\n",
    "# untuk pre-processing teks\n",
    "import re, string\n",
    "\n",
    "# bag of words\n",
    "from sklearn.feature_extraction.text import TfidfVectorizer\n",
    "\n",
    "#untuk pembangunan model\n",
    "from sklearn.naive_bayes import MultinomialNB\n",
    "from sklearn.metrics import classification_report, f1_score, accuracy_score, confusion_matrix"
   ]
  },
  {
   "cell_type": "code",
   "execution_count": 2,
   "metadata": {},
   "outputs": [
    {
     "name": "stdout",
     "output_type": "stream",
     "text": [
      "(3638, 2)\n"
     ]
    },
    {
     "data": {
      "text/html": [
       "<div>\n",
       "<style scoped>\n",
       "    .dataframe tbody tr th:only-of-type {\n",
       "        vertical-align: middle;\n",
       "    }\n",
       "\n",
       "    .dataframe tbody tr th {\n",
       "        vertical-align: top;\n",
       "    }\n",
       "\n",
       "    .dataframe thead th {\n",
       "        text-align: right;\n",
       "    }\n",
       "</style>\n",
       "<table border=\"1\" class=\"dataframe\">\n",
       "  <thead>\n",
       "    <tr style=\"text-align: right;\">\n",
       "      <th></th>\n",
       "      <th>sentence</th>\n",
       "      <th>sentiment</th>\n",
       "    </tr>\n",
       "  </thead>\n",
       "  <tbody>\n",
       "    <tr>\n",
       "      <th>0</th>\n",
       "      <td>Kangen NaBil @RealSyahnazS @bangbily RaGa @Raf...</td>\n",
       "      <td>1</td>\n",
       "    </tr>\n",
       "    <tr>\n",
       "      <th>1</th>\n",
       "      <td>Doa utk orang yg mberi makan: Ya Allah! Berila...</td>\n",
       "      <td>1</td>\n",
       "    </tr>\n",
       "    <tr>\n",
       "      <th>2</th>\n",
       "      <td>Setiap kali HP aku bunyi, aku selalu berharap ...</td>\n",
       "      <td>1</td>\n",
       "    </tr>\n",
       "    <tr>\n",
       "      <th>3</th>\n",
       "      <td>Belum pernah sedekat ini wawancara dgn Afgan S...</td>\n",
       "      <td>1</td>\n",
       "    </tr>\n",
       "    <tr>\n",
       "      <th>4</th>\n",
       "      <td>Dulu masa first pergi award show amatlah malas...</td>\n",
       "      <td>1</td>\n",
       "    </tr>\n",
       "  </tbody>\n",
       "</table>\n",
       "</div>"
      ],
      "text/plain": [
       "                                            sentence  sentiment\n",
       "0  Kangen NaBil @RealSyahnazS @bangbily RaGa @Raf...          1\n",
       "1  Doa utk orang yg mberi makan: Ya Allah! Berila...          1\n",
       "2  Setiap kali HP aku bunyi, aku selalu berharap ...          1\n",
       "3  Belum pernah sedekat ini wawancara dgn Afgan S...          1\n",
       "4  Dulu masa first pergi award show amatlah malas...          1"
      ]
     },
     "execution_count": 2,
     "metadata": {},
     "output_type": "execute_result"
    }
   ],
   "source": [
    "# Uncomment baris-baris berikut jika file data training disimpan di komputer\n",
    "import os\n",
    "# os.chdir('/Users/xxx/Documents/')\n",
    "df_train=pd.read_csv('D:/RAIHAN STIS/Perkuliahan/SEMESTER 5/Praktikum INFORMATION RETRIEVAL/Pertemuan (10)/train0.csv')\n",
    "print(df_train.shape)\n",
    "df_train.head()\n",
    "# Baris-baris berikut digunakan jika file data training disimpan di Google Drive\n",
    "# from google.colab import drive\n",
    "# drive.mount(\"/content/drive\", force_remount=True)\n",
    "# df_train=pd.read_csv('/content/drive/MyDrive/kuliah/Information Retrieval 22-23/Bahan Modul/bahan_latihan10/train0.csv')\n",
    "# print(df_train.shape)\n",
    "# df_train.head()"
   ]
  },
  {
   "cell_type": "code",
   "execution_count": 3,
   "metadata": {},
   "outputs": [
    {
     "name": "stdout",
     "output_type": "stream",
     "text": [
      "(1011, 2)\n"
     ]
    },
    {
     "data": {
      "text/html": [
       "<div>\n",
       "<style scoped>\n",
       "    .dataframe tbody tr th:only-of-type {\n",
       "        vertical-align: middle;\n",
       "    }\n",
       "\n",
       "    .dataframe tbody tr th {\n",
       "        vertical-align: top;\n",
       "    }\n",
       "\n",
       "    .dataframe thead th {\n",
       "        text-align: right;\n",
       "    }\n",
       "</style>\n",
       "<table border=\"1\" class=\"dataframe\">\n",
       "  <thead>\n",
       "    <tr style=\"text-align: right;\">\n",
       "      <th></th>\n",
       "      <th>sentence</th>\n",
       "      <th>sentiment</th>\n",
       "    </tr>\n",
       "  </thead>\n",
       "  <tbody>\n",
       "    <tr>\n",
       "      <th>0</th>\n",
       "      <td>#Sports Perempuan Golkar Makassar Dibekali Ilm...</td>\n",
       "      <td>1</td>\n",
       "    </tr>\n",
       "    <tr>\n",
       "      <th>1</th>\n",
       "      <td>Se-jauh\"nya, Se-kenal\"nya, Se-pisah\"nya, Se-cu...</td>\n",
       "      <td>1</td>\n",
       "    </tr>\n",
       "    <tr>\n",
       "      <th>2</th>\n",
       "      <td>Sekedar Shared Ucapan Terimakasih Charles Hono...</td>\n",
       "      <td>1</td>\n",
       "    </tr>\n",
       "    <tr>\n",
       "      <th>3</th>\n",
       "      <td>Wah pak Jokowi sudah mendapat nilai positif di...</td>\n",
       "      <td>1</td>\n",
       "    </tr>\n",
       "    <tr>\n",
       "      <th>4</th>\n",
       "      <td>Penelpon : raffi ahmad oh raffi ahmad..... *bu...</td>\n",
       "      <td>1</td>\n",
       "    </tr>\n",
       "  </tbody>\n",
       "</table>\n",
       "</div>"
      ],
      "text/plain": [
       "                                            sentence  sentiment\n",
       "0  #Sports Perempuan Golkar Makassar Dibekali Ilm...          1\n",
       "1  Se-jauh\"nya, Se-kenal\"nya, Se-pisah\"nya, Se-cu...          1\n",
       "2  Sekedar Shared Ucapan Terimakasih Charles Hono...          1\n",
       "3  Wah pak Jokowi sudah mendapat nilai positif di...          1\n",
       "4  Penelpon : raffi ahmad oh raffi ahmad..... *bu...          1"
      ]
     },
     "execution_count": 3,
     "metadata": {},
     "output_type": "execute_result"
    }
   ],
   "source": [
    "df_test=pd.read_csv('D:/RAIHAN STIS/Perkuliahan/SEMESTER 5/Praktikum INFORMATION RETRIEVAL/Pertemuan (10)/test0.csv')\n",
    "print(df_test.shape)\n",
    "df_test.head()"
   ]
  },
  {
   "cell_type": "markdown",
   "metadata": {},
   "source": [
    "## B. Analisis Data Eksploratif"
   ]
  },
  {
   "cell_type": "code",
   "execution_count": 5,
   "metadata": {},
   "outputs": [
    {
     "name": "stdout",
     "output_type": "stream",
     "text": [
      "sentiment\n",
      "0    2567\n",
      "1    1071\n",
      "Name: count, dtype: int64\n"
     ]
    },
    {
     "data": {
      "image/png": "[encoded data removed]",
      "text/plain": [
       "<Figure size 640x480 with 1 Axes>"
      ]
     },
     "metadata": {},
     "output_type": "display_data"
    }
   ],
   "source": [
    "# CLASS DISTRIBUTION\n",
    "# mengecek apakah dataset yang digunakan balance atau tidak\n",
    "x = df_train['sentiment'].value_counts()\n",
    "print(x)\n",
    "sns.barplot(x = x.index, y = x.values)  # Use x.values for the y-axis data\n",
    "plt.show()\n"
   ]
  },
  {
   "cell_type": "code",
   "execution_count": 6,
   "metadata": {},
   "outputs": [
    {
     "data": {
      "text/plain": [
       "sentence     0\n",
       "sentiment    0\n",
       "dtype: int64"
      ]
     },
     "execution_count": 6,
     "metadata": {},
     "output_type": "execute_result"
    }
   ],
   "source": [
    "# Memeriksa missing values\n",
    "df_train.isna().sum()"
   ]
  },
  {
   "cell_type": "code",
   "execution_count": 8,
   "metadata": {},
   "outputs": [
    {
     "name": "stdout",
     "output_type": "stream",
     "text": [
      "Word Count\n",
      "16.985060690943044\n",
      "16.684456564082588\n",
      "\n",
      "Character Count\n",
      "121.1484593837535\n",
      "111.01051811453058\n",
      "\n",
      "Unique Word Count\n",
      "16.166199813258636\n",
      "15.502532138683287\n"
     ]
    }
   ],
   "source": [
    "#1. WORD-COUNT\n",
    "print(\"Word Count\")\n",
    "df_train['word_count'] = df_train['sentence'].apply(lambda x:\n",
    "len(str(x).split()))\n",
    "print(df_train[df_train['sentiment']==1]['word_count'].mean()) #Positive\n",
    "print(df_train[df_train['sentiment']==0]['word_count'].mean()) #Negative\n",
    "\n",
    "#2. CHARACTER-COUNT\n",
    "print(\"\\nCharacter Count\")\n",
    "df_train['char_count'] = df_train['sentence'].apply(lambda x: len(str(x)))\n",
    "print(df_train[df_train['sentiment']==1]['char_count'].mean()) #Positive\n",
    "print(df_train[df_train['sentiment']==0]['char_count'].mean()) #Negative\n",
    "\n",
    "#3. UNIQUE WORD-COUNT\n",
    "print(\"\\nUnique Word Count\")\n",
    "df_train['unique_word_count'] = df_train['sentence'].apply(lambda x:\n",
    "len(set(str(x).split())))\n",
    "#Positive\n",
    "print(df_train[df_train['sentiment']==1]['unique_word_count'].mean())\n",
    "\n",
    "#Negative\n",
    "print(df_train[df_train['sentiment']==0]['unique_word_count'].mean())\n"
   ]
  },
  {
   "cell_type": "code",
   "execution_count": 9,
   "metadata": {},
   "outputs": [
    {
     "data": {
      "image/png": "[encoded data removed]",
      "text/plain": [
       "<Figure size 1000x400 with 2 Axes>"
      ]
     },
     "metadata": {},
     "output_type": "display_data"
    }
   ],
   "source": [
    "# Plotting word-count per tweet\n",
    "fig,(ax1,ax2)=plt.subplots(1,2,figsize=(10,4))\n",
    "train_words=df_train[df_train['sentiment']==1]['word_count']\n",
    "ax1.hist(train_words,color='green')\n",
    "ax1.set_title('Positive tweets')\n",
    "train_words=df_train[df_train['sentiment']==0]['word_count']\n",
    "ax2.hist(train_words,color='red')\n",
    "ax2.set_title('Negative tweets')\n",
    "fig.suptitle('Words per tweet')\n",
    "plt.show()\n",
    "df_train=df_train.drop(columns=['word_count','char_count','unique_word_count'])"
   ]
  },
  {
   "cell_type": "markdown",
   "metadata": {},
   "source": [
    "## C. Pre-processing Data"
   ]
  },
  {
   "cell_type": "code",
   "execution_count": 10,
   "metadata": {},
   "outputs": [
    {
     "data": {
      "text/plain": [
       "'atUser teks ini mau dibersihkan ada beberapa karakter seperti spasi berlebih dan tab'"
      ]
     },
     "execution_count": 10,
     "metadata": {},
     "output_type": "execute_result"
    }
   ],
   "source": [
    "# untuk pre-processing teks\n",
    "#1. Common text preprocessing\n",
    "text = \"@user Teks ini mau dibersihkan. Ada beberapa karakter seperti: <br>, ?, :, '' spasi berlebih dan tab . \"\n",
    "# mengubah ke huruf kecil (lowercase) dan menghapus tanda baca, karakter aneh dan strip\n",
    "def preprocess(text):\n",
    "    text = text.lower() #lowercase text\n",
    "    text = text.strip() #Menghapus leading/trailing whitespace\n",
    "    text = re.sub('@[^\\s]+','atUser',text) #mengubah @user menjadi atUser\n",
    "    text = re.sub(r'#([^\\s]+)', r'\\1', text) #menghapus hashtag di depan suatu kata\n",
    "    text= re.compile('<.*?>').sub('', text) #Menghapus HTML tags/markups\n",
    "    text = re.compile('[%s]' % re.escape(string.punctuation)).sub(' ', text)\n",
    "\n",
    "    #Replace punctuation with space. Careful since punctuation can sometime be useful\n",
    "    text = re.sub('\\s+', ' ', text) #Menghapus extra space dan tabs\n",
    "    text = re.sub(r'\\[[0-9]*\\]',' ',text) #[0-9] matches any digit (0 to 10000...)\n",
    "    text = re.sub(r'[^\\w\\s]', '', str(text).strip())\n",
    "    text = re.sub(r'\\d',' ',text) #matches any digit from 0 to 100000..., \\D matches non-digits\n",
    "    text = re.sub(r'\\s+',' ',text) #\\s matches any whitespace, \\s+ matches multiple whitespace, \\S matches non-whitespace\n",
    "    return text\n",
    "\n",
    "preprocess(text)"
   ]
  },
  {
   "cell_type": "code",
   "execution_count": 11,
   "metadata": {},
   "outputs": [],
   "source": [
    "def tokenisasi(text):\n",
    "    tokens = text.split(\" \")\n",
    "    return tokens\n",
    "#STOPWORD ELIMINATION DAN STEMMING\n",
    "def stemming(text, stemmer):\n",
    "    # stemming process\n",
    "    output = stemmer.stem(text)\n",
    "    return output\n",
    "def stemming_stopword_elim(text, stopwords, stemmer):\n",
    "    output = \"\"\n",
    "    for token in tokenisasi(text):\n",
    "        if not token in stopwords:\n",
    "            output = output + stemming(token, stemmer) + \" \"\n",
    "    return output[:-1]"
   ]
  },
  {
   "cell_type": "code",
   "execution_count": 12,
   "metadata": {},
   "outputs": [],
   "source": [
    "#FINAL PREPROCESSING\n",
    "from spacy.lang.id import Indonesian\n",
    "import spacy\n",
    "nlp = Indonesian() # use directly\n",
    "nlp = spacy.blank('id') # blank instance'\n",
    "stopwords = nlp.Defaults.stop_words\n",
    "from Sastrawi.Stemmer.StemmerFactory import StemmerFactory\n",
    "# create stemmer\n",
    "factory = StemmerFactory()\n",
    "stemmer = factory.create_stemmer()"
   ]
  },
  {
   "cell_type": "code",
   "execution_count": 13,
   "metadata": {},
   "outputs": [],
   "source": [
    "def finalpreprocess(string, stopwords, stemmer):\n",
    "    return stemming_stopword_elim(preprocess(string), stopwords, stemmer)"
   ]
  },
  {
   "cell_type": "code",
   "execution_count": 14,
   "metadata": {},
   "outputs": [
    {
     "data": {
      "text/html": [
       "<div>\n",
       "<style scoped>\n",
       "    .dataframe tbody tr th:only-of-type {\n",
       "        vertical-align: middle;\n",
       "    }\n",
       "\n",
       "    .dataframe tbody tr th {\n",
       "        vertical-align: top;\n",
       "    }\n",
       "\n",
       "    .dataframe thead th {\n",
       "        text-align: right;\n",
       "    }\n",
       "</style>\n",
       "<table border=\"1\" class=\"dataframe\">\n",
       "  <thead>\n",
       "    <tr style=\"text-align: right;\">\n",
       "      <th></th>\n",
       "      <th>sentence</th>\n",
       "      <th>sentiment</th>\n",
       "      <th>clean_text</th>\n",
       "    </tr>\n",
       "  </thead>\n",
       "  <tbody>\n",
       "    <tr>\n",
       "      <th>0</th>\n",
       "      <td>Kangen NaBil @RealSyahnazS @bangbily RaGa @Raf...</td>\n",
       "      <td>1</td>\n",
       "      <td>kangen nabil atuser atuser raga atuser atuser ...</td>\n",
       "    </tr>\n",
       "    <tr>\n",
       "      <th>1</th>\n",
       "      <td>Doa utk orang yg mberi makan: Ya Allah! Berila...</td>\n",
       "      <td>1</td>\n",
       "      <td>doa utk orang yg mberi makan ya allah ilah ber...</td>\n",
       "    </tr>\n",
       "    <tr>\n",
       "      <th>2</th>\n",
       "      <td>Setiap kali HP aku bunyi, aku selalu berharap ...</td>\n",
       "      <td>1</td>\n",
       "      <td>kali hp bunyi harap</td>\n",
       "    </tr>\n",
       "    <tr>\n",
       "      <th>3</th>\n",
       "      <td>Belum pernah sedekat ini wawancara dgn Afgan S...</td>\n",
       "      <td>1</td>\n",
       "      <td>dekat wawancara dgn afgan syahreza updateblog ...</td>\n",
       "    </tr>\n",
       "    <tr>\n",
       "      <th>4</th>\n",
       "      <td>Dulu masa first pergi award show amatlah malas...</td>\n",
       "      <td>1</td>\n",
       "      <td>first pergi award show malas nak pikir baju sk...</td>\n",
       "    </tr>\n",
       "  </tbody>\n",
       "</table>\n",
       "</div>"
      ],
      "text/plain": [
       "                                            sentence  sentiment   \n",
       "0  Kangen NaBil @RealSyahnazS @bangbily RaGa @Raf...          1  \\\n",
       "1  Doa utk orang yg mberi makan: Ya Allah! Berila...          1   \n",
       "2  Setiap kali HP aku bunyi, aku selalu berharap ...          1   \n",
       "3  Belum pernah sedekat ini wawancara dgn Afgan S...          1   \n",
       "4  Dulu masa first pergi award show amatlah malas...          1   \n",
       "\n",
       "                                          clean_text  \n",
       "0  kangen nabil atuser atuser raga atuser atuser ...  \n",
       "1  doa utk orang yg mberi makan ya allah ilah ber...  \n",
       "2                                kali hp bunyi harap  \n",
       "3  dekat wawancara dgn afgan syahreza updateblog ...  \n",
       "4  first pergi award show malas nak pikir baju sk...  "
      ]
     },
     "execution_count": 14,
     "metadata": {},
     "output_type": "execute_result"
    }
   ],
   "source": [
    "df_train['clean_text'] = df_train['sentence'].apply(lambda x:finalpreprocess(x, stopwords, stemmer))\n",
    "df_train.head()"
   ]
  },
  {
   "cell_type": "code",
   "execution_count": 17,
   "metadata": {},
   "outputs": [
    {
     "data": {
      "text/html": [
       "<div>\n",
       "<style scoped>\n",
       "    .dataframe tbody tr th:only-of-type {\n",
       "        vertical-align: middle;\n",
       "    }\n",
       "\n",
       "    .dataframe tbody tr th {\n",
       "        vertical-align: top;\n",
       "    }\n",
       "\n",
       "    .dataframe thead th {\n",
       "        text-align: right;\n",
       "    }\n",
       "</style>\n",
       "<table border=\"1\" class=\"dataframe\">\n",
       "  <thead>\n",
       "    <tr style=\"text-align: right;\">\n",
       "      <th></th>\n",
       "      <th>sentence</th>\n",
       "      <th>sentiment</th>\n",
       "      <th>clean_text</th>\n",
       "    </tr>\n",
       "  </thead>\n",
       "  <tbody>\n",
       "    <tr>\n",
       "      <th>0</th>\n",
       "      <td>#Sports Perempuan Golkar Makassar Dibekali Ilm...</td>\n",
       "      <td>1</td>\n",
       "      <td>sports perempuan golkar makassar bekal ilmu pr...</td>\n",
       "    </tr>\n",
       "    <tr>\n",
       "      <th>1</th>\n",
       "      <td>Se-jauh\"nya, Se-kenal\"nya, Se-pisah\"nya, Se-cu...</td>\n",
       "      <td>1</td>\n",
       "      <td>nya kenal nya pisah nya cuek nya gengsi nya ka...</td>\n",
       "    </tr>\n",
       "    <tr>\n",
       "      <th>2</th>\n",
       "      <td>Sekedar Shared Ucapan Terimakasih Charles Hono...</td>\n",
       "      <td>1</td>\n",
       "      <td>dar shared ucap terimakasih charles honor http...</td>\n",
       "    </tr>\n",
       "    <tr>\n",
       "      <th>3</th>\n",
       "      <td>Wah pak Jokowi sudah mendapat nilai positif di...</td>\n",
       "      <td>1</td>\n",
       "      <td>jokowi nilai positif mata fraksi demokrat ayo ...</td>\n",
       "    </tr>\n",
       "    <tr>\n",
       "      <th>4</th>\n",
       "      <td>Penelpon : raffi ahmad oh raffi ahmad..... *bu...</td>\n",
       "      <td>1</td>\n",
       "      <td>telpon raffi ahmad oh raffi ahmad rem uculllll...</td>\n",
       "    </tr>\n",
       "  </tbody>\n",
       "</table>\n",
       "</div>"
      ],
      "text/plain": [
       "                                            sentence  sentiment   \n",
       "0  #Sports Perempuan Golkar Makassar Dibekali Ilm...          1  \\\n",
       "1  Se-jauh\"nya, Se-kenal\"nya, Se-pisah\"nya, Se-cu...          1   \n",
       "2  Sekedar Shared Ucapan Terimakasih Charles Hono...          1   \n",
       "3  Wah pak Jokowi sudah mendapat nilai positif di...          1   \n",
       "4  Penelpon : raffi ahmad oh raffi ahmad..... *bu...          1   \n",
       "\n",
       "                                          clean_text  \n",
       "0  sports perempuan golkar makassar bekal ilmu pr...  \n",
       "1  nya kenal nya pisah nya cuek nya gengsi nya ka...  \n",
       "2  dar shared ucap terimakasih charles honor http...  \n",
       "3  jokowi nilai positif mata fraksi demokrat ayo ...  \n",
       "4  telpon raffi ahmad oh raffi ahmad rem uculllll...  "
      ]
     },
     "execution_count": 17,
     "metadata": {},
     "output_type": "execute_result"
    }
   ],
   "source": [
    "df_test['clean_text'] = df_test['sentence'].apply(lambda x:finalpreprocess(x, stopwords, stemmer))\n",
    "df_test.head()"
   ]
  },
  {
   "cell_type": "markdown",
   "metadata": {},
   "source": [
    "## D. Ekstraksi Feature dari Data Teks"
   ]
  },
  {
   "cell_type": "code",
   "execution_count": 18,
   "metadata": {},
   "outputs": [],
   "source": [
    "X_train = df_train['clean_text']\n",
    "y_train = df_train['sentiment']\n",
    "X_test = df_test['clean_text']\n",
    "y_test = df_test['sentiment']\n",
    "# TF-IDF\n",
    "# Konversi x_train ke vector karena model hanya dapat memproses angka, bukan kata/karakter\n",
    "tfidf_vectorizer = TfidfVectorizer(use_idf=True)\n",
    "X_train_vectors_tfidf = tfidf_vectorizer.fit_transform(X_train)\n",
    "# tfidf digunakan pada kalimat yang belum ditokenisasi, berbeda dengan word2vec\n",
    "# Hanya men-transform x_test (bukan fit dan transform)\n",
    "X_test_vectors_tfidf = tfidf_vectorizer.transform(X_test)\n",
    "# Jangan melakukan fungsi fit() TfidfVectorizer ke data testing karena hal itu akan\n",
    "# mengubah indeks kata & bobot sehingga sesuai dengan data testing. Sebaliknya, lakukan\n",
    "# fungsi fit pada data training, lalu gunakan hasil model pada data training tadi pada\n",
    "# data testing untuk menunjukkan fakta bahwa Anda menganalisis data testing hanya\n",
    "# berdasarkan apa yang dipelajari tanpa melihat data testing itu sendiri sebelumnya"
   ]
  },
  {
   "cell_type": "markdown",
   "metadata": {},
   "source": [
    "## E. Pembangunan Model Klasifikasi Teks dengan Naive Bayes"
   ]
  },
  {
   "cell_type": "code",
   "execution_count": 19,
   "metadata": {},
   "outputs": [],
   "source": [
    "\"\"\"#### NB (tf-idf)\"\"\"\n",
    "nb_tfidf = MultinomialNB()\n",
    "nb_tfidf.fit(X_train_vectors_tfidf, y_train) #model\n",
    "\n",
    "#Melakukan prediksi nilai y pada dataset testing\n",
    "y_predict = nb_tfidf.predict(X_test_vectors_tfidf)\n",
    "y_prob = nb_tfidf.predict_proba(X_test_vectors_tfidf)[:,1]"
   ]
  },
  {
   "cell_type": "markdown",
   "metadata": {},
   "source": [
    "## F. Evaluasi Model Klasifikasi"
   ]
  },
  {
   "cell_type": "code",
   "execution_count": 20,
   "metadata": {},
   "outputs": [
    {
     "name": "stdout",
     "output_type": "stream",
     "text": [
      "              precision    recall  f1-score   support\n",
      "\n",
      "           0       0.79      0.95      0.86       713\n",
      "           1       0.77      0.41      0.54       298\n",
      "\n",
      "    accuracy                           0.79      1011\n",
      "   macro avg       0.78      0.68      0.70      1011\n",
      "weighted avg       0.79      0.79      0.77      1011\n",
      "\n",
      "Confusion Matrix: [[677  36]\n",
      " [176 122]]\n"
     ]
    }
   ],
   "source": [
    "print(classification_report(y_test,y_predict))\n",
    "print('Confusion Matrix:',confusion_matrix(y_test, y_predict))"
   ]
  },
  {
   "cell_type": "markdown",
   "metadata": {},
   "source": [
    "## G. Kesimpulan\n",
    "\n",
    "1. Precision (presisi):\n",
    "   - Precision untuk kelas 0 (Negative): 0.79\n",
    "   - Precision untuk kelas 1 (Positive): 0.77\n",
    "\n",
    "   Precision mengukur sejauh mana model benar-benar memprediksi kelas tertentu dengan benar. Dalam hal ini, untuk kelas 0 (Negatif), model benar-benar memprediksi dengan benar sekitar 79% dari semua prediksi yang dilakukan untuk kelas tersebut. Sedangkan, untuk kelas 1 (Positif), model benar-benar memprediksi dengan benar sekitar 77% dari semua prediksi yang dilakukan untuk kelas tersebut.\n",
    "\n",
    "2. Recall (recall):\n",
    "   - Recall untuk kelas 0 (Negative): 0.95\n",
    "   - Recall untuk kelas 1 (Positive): 0.41\n",
    "\n",
    "   Recall mengukur sejauh mana model dapat mendeteksi semua instance yang benar-benar termasuk dalam kelas tertentu. Dalam hal ini, untuk kelas 0 (Negatif), model dapat mendeteksi sekitar 95% dari semua instance yang seharusnya masuk ke dalam kelas tersebut. Namun, untuk kelas 1 (Positif), model hanya dapat mendeteksi sekitar 41% dari semua instance yang seharusnya masuk ke dalam kelas tersebut.\n",
    "\n",
    "3. F1-Score (f1-score):\n",
    "   - F1-Score untuk kelas 0 (Negative): 0.86\n",
    "   - F1-Score untuk kelas 1 (Positive): 0.54\n",
    "\n",
    "   F1-Score adalah perpaduan antara precision dan recall, yang berguna untuk mengukur keseluruhan kinerja model. Untuk kelas 0 (Negatif), F1-Score adalah 0.86, dan untuk kelas 1 (Positif), F1-Score adalah 0.54. F1-Score yang tinggi menunjukkan bahwa model memiliki keseimbangan yang baik antara precision dan recall.\n",
    "\n",
    "4. Akurasi (accuracy):\n",
    "   - Akurasi secara keseluruhan: 0.79\n",
    "\n",
    "   Akurasi adalah rasio prediksi yang benar secara keseluruhan. Dalam hal ini, akurasi adalah sekitar 79%, yang berarti model ini benar sekitar 79% dari waktu saat memprediksi kelas dari keseluruhan data.\n",
    "\n",
    "5. Macro Average dan Weighted Average:\n",
    "   - Macro Average mengambil rata-rata metrik untuk setiap kelas tanpa memperhatikan distribusi kelas. Macro Average F1-Score adalah 0.70.\n",
    "   - Weighted Average memberi bobot metrik berdasarkan jumlah sampel dalam setiap kelas. Weighted Average F1-Score adalah 0.77.\n",
    "\n",
    "   Macro Average berguna jika kelas-kelas memiliki distribusi yang seimbang, sementara Weighted Average lebih akurat ketika kelas-kelas memiliki distribusi yang tidak seimbang. Weighted Average lebih tinggi karena memberikan lebih banyak bobot pada kelas mayoritas (kelas 0) yang memiliki lebih banyak sampel.\n",
    "   \n",
    "   Secara keseluruhan, model memiliki kinerja yang baik dalam memprediksi kelas 0 (Negatif), tetapi memiliki kinerja yang lebih rendah dalam memprediksi kelas 1 (Positif) berdasarkan nilai recall dan F1-Score yang lebih rendah. Akurasi model adalah 0.79, yang berarti model ini benar sekitar 79%.\n"
   ]
  }
 ],
 "metadata": {
  "kernelspec": {
   "display_name": "base",
   "language": "python",
   "name": "python3"
  },
  "language_info": {
   "codemirror_mode": {
    "name": "ipython",
    "version": 3
   },
   "file_extension": ".py",
   "mimetype": "text/x-python",
   "name": "python",
   "nbconvert_exporter": "python",
   "pygments_lexer": "ipython3",
   "version": "3.11.3"
  }
 },
 "nbformat": 4,
 "nbformat_minor": 2
}
