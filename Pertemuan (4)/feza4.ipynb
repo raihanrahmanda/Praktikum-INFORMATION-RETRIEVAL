{
 "cells": [
  {
   "cell_type": "markdown",
   "metadata": {},
   "source": [
    "# Praktikum 4"
   ]
  },
  {
   "cell_type": "markdown",
   "metadata": {},
   "source": [
    "Link to these material : https://github.com/peermohtaram/Vector-Space-Model/blob/master/Vector_Space_Model.ipynb"
   ]
  },
  {
   "cell_type": "markdown",
   "metadata": {},
   "source": [
    "### Raw Term Frequency"
   ]
  },
  {
   "cell_type": "code",
   "execution_count": 24,
   "metadata": {},
   "outputs": [],
   "source": [
    "def termFrequencyInDoc(vocab, doc_dict):\n",
    "    tf_docs = {}\n",
    "    for doc_id in doc_dict.keys():\n",
    "        tf_docs[doc_id] = {}\n",
    "    for word in vocab:\n",
    "        for doc_id,doc in doc_dict.items():\n",
    "            tf_docs[doc_id][word] = doc.count(word)\n",
    "    return tf_docs"
   ]
  },
  {
   "cell_type": "code",
   "execution_count": 25,
   "metadata": {},
   "outputs": [
    {
     "name": "stdout",
     "output_type": "stream",
     "text": [
      "--- Inverted Index ---\n",
      "{'kembang': [1, 2], 'sistem': [1, 3], 'informasi': [1], 'jadwal': [1], 'model': [2], 'analisis': [2, 3], 'sentimen': [2], 'berita': [2], 'input': [3], 'output': [3]}\n",
      "\n",
      "\n",
      "--- Term Frequency -- \n",
      "{'doc1': {'kembang': 1, 'sistem': 1, 'informasi': 1, 'jadwal': 1, 'model': 0, 'analisis': 0, 'sentimen': 0, 'berita': 0, 'input': 0, 'output': 0}, 'doc2': {'kembang': 1, 'sistem': 0, 'informasi': 0, 'jadwal': 0, 'model': 1, 'analisis': 1, 'sentimen': 1, 'berita': 1, 'input': 0, 'output': 0}, 'doc3': {'kembang': 0, 'sistem': 1, 'informasi': 0, 'jadwal': 0, 'model': 0, 'analisis': 1, 'sentimen': 0, 'berita': 0, 'input': 1, 'output': 1}}\n"
     ]
    }
   ],
   "source": [
    "doc1_term = [\"pengembangan\", \"sistem\", \"informasi\", \"penjadwalan\"]\n",
    "doc2_term = [\"pengembangan\", \"model\", \"analisis\", \"sentimen\", \"berita\"]\n",
    "doc3_term = [\"analisis\", \"sistem\", \"input\", \"output\"]\n",
    "corpus_term = [doc1_term, doc2_term, doc3_term]\n",
    "\n",
    "from Sastrawi.Stemmer.StemmerFactory import StemmerFactory\n",
    "\n",
    "stemmer_factory = StemmerFactory()\n",
    "stemmer = stemmer_factory.create_stemmer()\n",
    "\n",
    "inverted_index = {}\n",
    "for i in range(len(corpus_term)):\n",
    "    for item in corpus_term[i]:\n",
    "        item = stemmer.stem(item)\n",
    "        if item not in inverted_index:\n",
    "            inverted_index[item] = []\n",
    "        if (item in inverted_index) and ((i+1) not in inverted_index[item]):\n",
    "            inverted_index[item].append(i+1)\n",
    "\n",
    "print(\"--- Inverted Index ---\")\n",
    "print(inverted_index)\n",
    "print(\"\\n\")\n",
    "\n",
    "vocab = list(inverted_index.keys())\n",
    "doc_dict = {}\n",
    "#clean after stemming\n",
    "doc_dict['doc1'] = \"kembang sistem informasi jadwal\"\n",
    "doc_dict['doc2'] = \"kembang model analisis sentimen berita\"\n",
    "doc_dict['doc3'] = \"analisis sistem input output\"\n",
    "\n",
    "print(\"--- Term Frequency -- \")\n",
    "print(termFrequencyInDoc(vocab, doc_dict))"
   ]
  },
  {
   "cell_type": "markdown",
   "metadata": {},
   "source": [
    "Penjelasan kode di atas : \n",
    "\n",
    "Inverted index untuk list apa saja kata yang mau dicari di suatu document\n",
    "\n",
    "Nah, term frequencynya itu biar kita cari setiap kata yang ada di inverted index di suatu document tuh muncul berapa kalii. Gitu bro."
   ]
  },
  {
   "cell_type": "markdown",
   "metadata": {},
   "source": [
    "### Document Frequency"
   ]
  },
  {
   "cell_type": "code",
   "execution_count": 26,
   "metadata": {},
   "outputs": [],
   "source": [
    "from nltk.corpus import stopwords\n",
    "from nltk.tokenize import word_tokenize\n",
    "\n",
    "def wordDocFre(vocab, doc_dict):\n",
    "    df = {}\n",
    "    for word in vocab:\n",
    "        frq = 0\n",
    "        for doc in doc_dict.values():\n",
    "          #if word in doc.lower().split():\n",
    "            if word in word_tokenize(doc.lower().strip()):\n",
    "                frq = frq + 1\n",
    "        df[word] = frq\n",
    "    return df"
   ]
  },
  {
   "cell_type": "markdown",
   "metadata": {},
   "source": [
    "### Inverse Document Frequency\n",
    "\n",
    "Formula : IDF = log (N/Df)"
   ]
  },
  {
   "cell_type": "code",
   "execution_count": 27,
   "metadata": {},
   "outputs": [],
   "source": [
    "import numpy as np\n",
    "def inverseDocFre(vocab,doc_fre,length):\n",
    "    idf= {}\n",
    "    for word in vocab:\n",
    "        idf[word] = idf[word] = 1 + np.log((length + 1) / (doc_fre[word]+1))\n",
    "    return idf"
   ]
  },
  {
   "cell_type": "code",
   "execution_count": 28,
   "metadata": {},
   "outputs": [
    {
     "name": "stdout",
     "output_type": "stream",
     "text": [
      "{'kembang': 1.2876820724517808, 'sistem': 1.2876820724517808, 'informasi': 1.6931471805599454, 'jadwal': 1.6931471805599454, 'model': 1.6931471805599454, 'analisis': 1.2876820724517808, 'sentimen': 1.6931471805599454, 'berita': 1.6931471805599454, 'input': 1.6931471805599454, 'output': 1.6931471805599454}\n"
     ]
    }
   ],
   "source": [
    "print(inverseDocFre(vocab, wordDocFre(vocab, doc_dict),len(doc_dict)))"
   ]
  },
  {
   "cell_type": "markdown",
   "metadata": {},
   "source": [
    "### Vector Space Model"
   ]
  },
  {
   "cell_type": "markdown",
   "metadata": {},
   "source": [
    "Function dibawah ini menghasilkan w = TF*IDF"
   ]
  },
  {
   "cell_type": "code",
   "execution_count": 29,
   "metadata": {},
   "outputs": [],
   "source": [
    "def tfidf(vocab,tf,idf_scr,doc_dict):\n",
    "    tf_idf_scr = {}\n",
    "    for doc_id in doc_dict.keys():\n",
    "        tf_idf_scr[doc_id] = {}\n",
    "    for word in vocab:\n",
    "        for doc_id,doc in doc_dict.items():\n",
    "            tf_idf_scr[doc_id][word] = tf[doc_id][word] * idf_scr[word]\n",
    "    return tf_idf_scr"
   ]
  },
  {
   "cell_type": "markdown",
   "metadata": {},
   "source": [
    "Term-Document Matrix\n",
    "<br>\n",
    "    doc1  doc2   doc3\n",
    "<br>\n",
    "t1 |w11   w12    w13|\n",
    "<br>\n",
    "t2 |w21   w22    w23|\n",
    "<br>\n",
    "t3 |w31   w32    w33|"
   ]
  },
  {
   "cell_type": "code",
   "execution_count": 30,
   "metadata": {},
   "outputs": [
    {
     "name": "stdout",
     "output_type": "stream",
     "text": [
      "[[1.28768207 1.28768207 0.        ]\n",
      " [1.28768207 0.         1.28768207]\n",
      " [1.69314718 0.         0.        ]\n",
      " [1.69314718 0.         0.        ]\n",
      " [0.         1.69314718 0.        ]\n",
      " [0.         1.28768207 1.28768207]\n",
      " [0.         1.69314718 0.        ]\n",
      " [0.         1.69314718 0.        ]\n",
      " [0.         0.         1.69314718]\n",
      " [0.         0.         1.69314718]]\n"
     ]
    }
   ],
   "source": [
    "tf_idf = tfidf(vocab, termFrequencyInDoc(vocab, doc_dict), inverseDocFre(vocab, wordDocFre(vocab, doc_dict), len(doc_dict)), doc_dict)\n",
    "# Term - Document Matrix\n",
    "TD = np.zeros((len(vocab), len(doc_dict)))\n",
    "for word in vocab:\n",
    "    for doc_id,doc in tf_idf.items():\n",
    "        ind1 = vocab.index(word)\n",
    "        ind2 = list(tf_idf.keys()).index(doc_id)\n",
    "        TD[ind1][ind2] = tf_idf[doc_id][word]\n",
    "print(TD)"
   ]
  },
  {
   "cell_type": "markdown",
   "metadata": {},
   "source": [
    "### Text Similarity"
   ]
  },
  {
   "cell_type": "markdown",
   "metadata": {},
   "source": [
    "#### Edit Distace"
   ]
  },
  {
   "cell_type": "markdown",
   "metadata": {},
   "source": [
    "Ref : https://www.w3resource.com/python-exercises/challenges/1/python-challenges-1-exercise-52.php"
   ]
  },
  {
   "cell_type": "code",
   "execution_count": 31,
   "metadata": {},
   "outputs": [],
   "source": [
    "def edit_distance(string1, string2):\n",
    "    if len(string1) > len(string2):\n",
    "        difference = len(string1) - len(string2)\n",
    "        string1[:difference]\n",
    "        n = len(string2)\n",
    "    elif len(string2) > len(string1):\n",
    "        difference = len(string2) - len(string1)\n",
    "        string2[:difference]\n",
    "        n = len(string1)\n",
    "    for i in range(n):\n",
    "        if string1[i] != string2[i]:\n",
    "            difference += 1\n",
    "            \n",
    "    return difference\n"
   ]
  },
  {
   "cell_type": "code",
   "execution_count": 32,
   "metadata": {},
   "outputs": [
    {
     "name": "stdout",
     "output_type": "stream",
     "text": [
      "30\n",
      "31\n"
     ]
    }
   ],
   "source": [
    "print(edit_distance(doc_dict['doc1'], doc_dict['doc2']))\n",
    "print(edit_distance(doc_dict['doc1'], doc_dict['doc3']))"
   ]
  },
  {
   "cell_type": "markdown",
   "metadata": {},
   "source": [
    "#### Jaccard Similarity"
   ]
  },
  {
   "cell_type": "markdown",
   "metadata": {},
   "source": [
    "Ref : https://www.w3resource.com/python-exercises/extended-data-types/python-extended-data-types-index-counter-exercise-9.php"
   ]
  },
  {
   "cell_type": "code",
   "execution_count": 33,
   "metadata": {},
   "outputs": [],
   "source": [
    "def jaccard_sim(list1, list2):\n",
    "    intersection = len(list(set(list1).intersection(list2)))\n",
    "    union = (len(list1) + len(list2)) - intersection\n",
    "    \n",
    "    return float(intersection) / union"
   ]
  },
  {
   "cell_type": "code",
   "execution_count": 34,
   "metadata": {},
   "outputs": [
    {
     "name": "stdout",
     "output_type": "stream",
     "text": [
      "0.125\n",
      "0.14285714285714285\n"
     ]
    }
   ],
   "source": [
    "print(jaccard_sim(doc_dict['doc1'].split(\" \"), doc_dict['doc2'].split(\" \")))\n",
    "print(jaccard_sim(doc_dict['doc1'].split(\" \"), doc_dict['doc3'].split(\" \")))"
   ]
  },
  {
   "cell_type": "markdown",
   "metadata": {},
   "source": [
    "### Euclidian Distance"
   ]
  },
  {
   "cell_type": "code",
   "execution_count": 35,
   "metadata": {},
   "outputs": [],
   "source": [
    "def euclidian_dist(vec1, vec2):\n",
    "    # subtracting vector\n",
    "    temp = vec1 - vec2\n",
    "    # doing dot product\n",
    "    # for finding\n",
    "    # sum of the squares\n",
    "    sum_sq = np.dot(temp.T, temp)\n",
    "    # Doing squareroot and\n",
    "    # printing Euclidean distance\n",
    "    \n",
    "    return np.sqrt(sum_sq)"
   ]
  },
  {
   "cell_type": "code",
   "execution_count": 36,
   "metadata": {},
   "outputs": [
    {
     "name": "stdout",
     "output_type": "stream",
     "text": [
      "4.201188773980275\n",
      "3.844897884155026\n"
     ]
    }
   ],
   "source": [
    "print(euclidian_dist(TD[:, 0], TD[:, 1])) #doc1 & doc2\n",
    "print(euclidian_dist(TD[:, 0], TD[:, 2])) #doc1 & doc3"
   ]
  },
  {
   "cell_type": "markdown",
   "metadata": {},
   "source": [
    "### Cosine Similarity"
   ]
  },
  {
   "cell_type": "markdown",
   "metadata": {},
   "source": [
    "Ref : https://algoritmaonline.com/kemiripan-teks/"
   ]
  },
  {
   "cell_type": "code",
   "execution_count": 37,
   "metadata": {},
   "outputs": [],
   "source": [
    "import math\n",
    "def cosine_sim(vec1, vec2):\n",
    "    vec1 = list(vec1)\n",
    "    vec2 = list(vec2)\n",
    "    dot_prod = 0\n",
    "    for i, v in enumerate(vec1):\n",
    "        dot_prod += v * vec2[i]\n",
    "    mag_1 = math.sqrt(sum([x**2 for x in vec1]))\n",
    "    mag_2 = math.sqrt(sum([x**2 for x in vec2]))\n",
    "\n",
    "    return dot_prod / (mag_1 * mag_2)"
   ]
  },
  {
   "cell_type": "code",
   "execution_count": 38,
   "metadata": {},
   "outputs": [
    {
     "name": "stdout",
     "output_type": "stream",
     "text": [
      "0.15967058203849993\n",
      "0.1832234081332565\n"
     ]
    }
   ],
   "source": [
    "print(cosine_sim(TD[:, 0], TD[:, 1])) #doc1 & doc2\n",
    "print(cosine_sim(TD[:, 0], TD[:, 2])) #doc1 & doc3"
   ]
  },
  {
   "cell_type": "markdown",
   "metadata": {},
   "source": [
    "### Penugasan"
   ]
  },
  {
   "cell_type": "markdown",
   "metadata": {},
   "source": [
    "##### 1. Buat vector space model dengan menggunakan sekumpulan dokumen pada folder ”berita”"
   ]
  },
  {
   "cell_type": "code",
   "execution_count": 46,
   "metadata": {},
   "outputs": [
    {
     "name": "stdout",
     "output_type": "stream",
     "text": [
      "{'berita1.txt': {'': 571, 'batas': 1, 'data': 0, 'januari': 1, 'nasional': 0, 'pasti': 1, '34': 2, 'kasus dalam': 0, 'akhir': 0, 'shellclassinfo iconresource c program': 0, 'rencana': 1, 'banyak': 0, 'lawan': 0, 'jadi': 0, 'kaji turut': 1, 'signifikan': 1, 'vaksinasi': 0, 'https health detik com berita-detikhealth d-5812940 alert-kasus-varian-delta-covid-19-di-dki-meningkat': 0, 'dr': 1, 'catat': 0, 'masih': 0, 'perlu': 0, 'ketua': 0, 'ppkm': 3, 'sebut': 0, 'kendali': 1, '2022': 0, 'puncak': 0, 'namun': 1, 'umum': 1, 'turun': 0, 'nasihat': 0, 'hitung': 1, 'bakal': 2, '2': 7, 'awal': 0, 'beri': 1, 'jauh': 0, 'cegah': 1, 'cs jakarta': 0, 'dadak https health detik com berita-detikhealth d-5813949 corona-di-as-mendadak-naik-lagi-usai-serangan-delta-sempat-mereda': 0, 'bebas': 2, 'gantung': 0, 'tahap': 1, 'pasien': 0, 'kamu': 2, 'ingat': 0, 'naik': 1, 'area': 0, 'asal': 0, 'delta': 0, 'tular': 1, '1 327': 0, '-': 16, '90': 1, 'sekali': 0, 'per': 1, 'reda jakarta': 0, '1': 6, 'dosis': 0, 'baru jawab': 0, 'satu': 0, 'moderna': 0, 'influenza ketua': 0, 'alert': 0, '24': 1, 'suntik': 0, 'vaksin': 0, 'lagi https health detik com berita-detikhealth d-5816582 vaksin-covid-19-bakal-rutin-setiap-tahun-tergantung-ini-penjelasannya': 0, 'jawa': 0, 'tanya': 0, '57': 0, 'tambah': 0, 'corona': 0, 'ikut': 0, 'stream 80 0 1 0 googledrivefs exe 23': 0, 'indonesia': 0, 'perintah': 1, 'virus': 0, 'satgas': 0, 'terap': 2, 'tingkat': 1, 'file': 0, 'booster': 0, '1-2': 0, 'gelombang': 0, 'laut': 0, 'sampai': 0, 'kini': 0, 'strain': 0, 'desember': 1, 'ini': 0, 'pasca': 0, 'dokter': 0, 'barat': 0, 'jumlah': 0, 'mobilitas': 1, 'lalu': 0, 'laku': 1, 'guna': 0, 'gedung': 0, 'masyarakat': 1, 'zona': 2, 'level': 3, 'siti': 1, 'amerika': 0, 'cek': 2, 'kait': 0, '13': 0, 'senin': 0, 'tingkat jakarta': 0, 'sempat': 0, 'idi': 0, '165': 0, 'mungkin': 0, 'jenis': 0, 'timur': 0, 'memang': 0, 'bijak': 1, 'baru': 2, 'kab kota': 1, 'fauci': 0, 'sulawesi': 0, 'delta https health detik com berita-detikhealth d-5816534 ri-mulai-suntikkan-booster-di-2022-masihkah-ampuh-lawan-varian-delta-cs': 0, 'dasar': 0, '2021': 2, 'bulan': 0, 'longgar': 1, 'tahu': 0, 'turut': 1, 'wilayah': 2, 'tunjuk': 0, 'p2pml': 1, 'sementara': 0, 'riset': 0, 'lantas': 0, 'as': 7, 'serang': 0, 'kasus': 1, 'total': 0, 'utara': 0, 'sehat https health detik com berita-detikhealth d-5816690 wilayah-kamu-sudah-bebas-covid-19-cek-34-kabkota-zona-hijau-terbaru': 1, 'cukup': 0, 'protokol': 1, 'langsung': 1, '86': 0, 'jakarta': 1, 'mulai': 0, 'tiga': 0, 'dki': 0, 'nadia': 1, 'putih': 0, 'prof': 0, 'baru jakarta': 1, 'djoerban': 0, 'pakar': 0, 'pfizer': 0, 'beta': 0, 'varian': 0, '3': 5, 'kemudian': 0, 'direktur': 1, 'ri': 6, 'alami': 0, 'ikat': 0, 'giat': 1, 'sakit': 1, 'persen': 0, 'ada': 0, 'medis': 0, 'tahun': 0, 'jelas': 0, 'aku': 1, 'ampuh': 0, 'musim': 0, 'efektivitas': 0, '15 11 2021': 0, 'hijau': 2, 'jelas jakarta': 0, 'serikat': 0, 'panas': 0, 'tarmizi': 1, 'anthony': 0, 'sehat': 2, 'rutin': 0, 'minggu': 0, 'singgung': 0, 'hingga': 1, 'kemenkes': 1, 'bukti': 0, 'november': 0, 'usai': 0, 'apa hal': 0, 'files google drive': 0, 'dadak': 0, 'tengah': 0, 'picu': 1, 'zubairi': 0, 'covid-19': 3, 'stabil': 0, 'balitbangkes': 0, 'kepala': 0, 'menteri': 1, 'padahal': 0, 'alpha': 0}, 'berita2.txt': {'': 577, 'batas': 0, 'data': 0, 'januari': 1, 'nasional': 0, 'pasti': 1, '34': 0, 'kasus dalam': 0, 'akhir': 0, 'shellclassinfo iconresource c program': 0, 'rencana': 1, 'banyak': 0, 'lawan': 0, 'jadi': 0, 'kaji turut': 0, 'signifikan': 0, 'vaksinasi': 3, 'https health detik com berita-detikhealth d-5812940 alert-kasus-varian-delta-covid-19-di-dki-meningkat': 0, 'dr': 0, 'catat': 0, 'masih': 0, 'perlu': 1, 'ketua': 1, 'ppkm': 0, 'sebut': 1, 'kendali': 0, '2022': 1, 'puncak': 0, 'namun': 0, 'umum': 0, 'turun': 0, 'nasihat': 0, 'hitung': 0, 'bakal': 4, '2': 4, 'awal': 0, 'beri': 4, 'jauh': 0, 'cegah': 0, 'cs jakarta': 0, 'dadak https health detik com berita-detikhealth d-5813949 corona-di-as-mendadak-naik-lagi-usai-serangan-delta-sempat-mereda': 0, 'bebas': 0, 'gantung': 2, 'tahap': 0, 'pasien': 0, 'kamu': 0, 'ingat': 0, 'naik': 0, 'area': 0, 'asal': 0, 'delta': 0, 'tular': 0, '1 327': 0, '-': 18, '90': 0, 'sekali': 1, 'per': 1, 'reda jakarta': 0, '1': 8, 'dosis': 1, 'baru jawab': 0, 'satu': 0, 'moderna': 0, 'influenza ketua': 1, 'alert': 0, '24': 0, 'suntik': 0, 'vaksin': 7, 'lagi https health detik com berita-detikhealth d-5816582 vaksin-covid-19-bakal-rutin-setiap-tahun-tergantung-ini-penjelasannya': 1, 'jawa': 0, 'tanya': 0, '57': 0, 'tambah': 0, 'corona': 0, 'ikut': 0, 'stream 80 0 1 0 googledrivefs exe 23': 0, 'indonesia': 2, 'perintah': 0, 'virus': 0, 'satgas': 1, 'terap': 0, 'tingkat': 0, 'file': 0, 'booster': 2, '1-2': 0, 'gelombang': 0, 'laut': 0, 'sampai': 0, 'kini': 1, 'strain': 0, 'desember': 0, 'ini': 2, 'pasca': 0, 'dokter': 1, 'barat': 0, 'jumlah': 0, 'mobilitas': 0, 'lalu': 0, 'laku': 1, 'guna': 0, 'gedung': 0, 'masyarakat': 0, 'zona': 0, 'level': 0, 'siti': 0, 'amerika': 0, 'cek': 0, 'kait': 1, '13': 0, 'senin': 0, 'tingkat jakarta': 0, 'sempat': 0, 'idi': 1, '165': 1, 'mungkin': 3, 'jenis': 0, 'timur': 0, 'memang': 0, 'bijak': 0, 'baru': 0, 'kab kota': 0, 'fauci': 0, 'sulawesi': 0, 'delta https health detik com berita-detikhealth d-5816534 ri-mulai-suntikkan-booster-di-2022-masihkah-ampuh-lawan-varian-delta-cs': 0, 'dasar': 0, '2021': 0, 'bulan': 0, 'longgar': 0, 'tahu': 4, 'turut': 1, 'wilayah': 0, 'tunjuk': 0, 'p2pml': 0, 'sementara': 0, 'riset': 0, 'lantas': 1, 'as': 9, 'serang': 0, 'kasus': 0, 'total': 0, 'utara': 0, 'sehat https health detik com berita-detikhealth d-5816690 wilayah-kamu-sudah-bebas-covid-19-cek-34-kabkota-zona-hijau-terbaru': 0, 'cukup': 1, 'protokol': 0, 'langsung': 1, '86': 0, 'jakarta': 1, 'mulai': 0, 'tiga': 1, 'dki': 0, 'nadia': 0, 'putih': 0, 'prof': 1, 'baru jakarta': 0, 'djoerban': 1, 'pakar': 0, 'pfizer': 0, 'beta': 0, 'varian': 0, '3': 0, 'kemudian': 1, 'direktur': 0, 'ri': 6, 'alami': 0, 'ikat': 1, 'giat': 0, 'sakit': 0, 'persen': 0, 'ada': 1, 'medis': 0, 'tahun': 4, 'jelas': 3, 'aku': 1, 'ampuh': 0, 'musim': 0, 'efektivitas': 0, '15 11 2021': 0, 'hijau': 0, 'jelas jakarta': 1, 'serikat': 0, 'panas': 0, 'tarmizi': 0, 'anthony': 0, 'sehat': 0, 'rutin': 2, 'minggu': 0, 'singgung': 0, 'hingga': 1, 'kemenkes': 0, 'bukti': 0, 'november': 0, 'usai': 0, 'apa hal': 0, 'files google drive': 0, 'dadak': 0, 'tengah': 0, 'picu': 0, 'zubairi': 1, 'covid-19': 7, 'stabil': 0, 'balitbangkes': 0, 'kepala': 0, 'menteri': 0, 'padahal': 0, 'alpha': 0}, 'berita3.txt': {'': 691, 'batas': 0, 'data': 0, 'januari': 0, 'nasional': 0, 'pasti': 0, '34': 1, 'kasus dalam': 0, 'akhir': 0, 'shellclassinfo iconresource c program': 0, 'rencana': 0, 'banyak': 0, 'lawan': 3, 'jadi': 0, 'kaji turut': 0, 'signifikan': 0, 'vaksinasi': 0, 'https health detik com berita-detikhealth d-5812940 alert-kasus-varian-delta-covid-19-di-dki-meningkat': 0, 'dr': 0, 'catat': 0, 'masih': 2, 'perlu': 0, 'ketua': 1, 'ppkm': 0, 'sebut': 3, 'kendali': 0, '2022': 3, 'puncak': 0, 'namun': 0, 'umum': 0, 'turun': 2, 'nasihat': 0, 'hitung': 0, 'bakal': 2, '2': 11, 'awal': 1, 'beri': 1, 'jauh': 1, 'cegah': 0, 'cs jakarta': 1, 'dadak https health detik com berita-detikhealth d-5813949 corona-di-as-mendadak-naik-lagi-usai-serangan-delta-sempat-mereda': 0, 'bebas': 0, 'gantung': 0, 'tahap': 0, 'pasien': 0, 'kamu': 0, 'ingat': 1, 'naik': 0, 'area': 0, 'asal': 0, 'delta': 4, 'tular': 0, '1 327': 0, '-': 19, '90': 0, 'sekali': 0, 'per': 0, 'reda jakarta': 0, '1': 7, 'dosis': 3, 'baru jawab': 1, 'satu': 0, 'moderna': 1, 'influenza ketua': 0, 'alert': 0, '24': 0, 'suntik': 2, 'vaksin': 5, 'lagi https health detik com berita-detikhealth d-5816582 vaksin-covid-19-bakal-rutin-setiap-tahun-tergantung-ini-penjelasannya': 0, 'jawa': 1, 'tanya': 1, '57': 0, 'tambah': 0, 'corona': 1, 'ikut': 1, 'stream 80 0 1 0 googledrivefs exe 23': 0, 'indonesia': 2, 'perintah': 0, 'virus': 1, 'satgas': 1, 'terap': 0, 'tingkat': 0, 'file': 0, 'booster': 3, '1-2': 1, 'gelombang': 0, 'laut': 0, 'sampai': 0, 'kini': 0, 'strain': 1, 'desember': 0, 'ini': 1, 'pasca': 0, 'dokter': 1, 'barat': 0, 'jumlah': 0, 'mobilitas': 0, 'lalu': 0, 'laku': 0, 'guna': 2, 'gedung': 0, 'masyarakat': 0, 'zona': 0, 'level': 0, 'siti': 0, 'amerika': 0, 'cek': 0, 'kait': 1, '13': 0, 'senin': 0, 'tingkat jakarta': 0, 'sempat': 0, 'idi': 1, '165': 1, 'mungkin': 0, 'jenis': 1, 'timur': 0, 'memang': 1, 'bijak': 0, 'baru': 2, 'kab kota': 0, 'fauci': 0, 'sulawesi': 0, 'delta https health detik com berita-detikhealth d-5816534 ri-mulai-suntikkan-booster-di-2022-masihkah-ampuh-lawan-varian-delta-cs': 1, 'dasar': 1, '2021': 0, 'bulan': 0, 'longgar': 0, 'tahu': 0, 'turut': 0, 'wilayah': 0, 'tunjuk': 0, 'p2pml': 0, 'sementara': 0, 'riset': 2, 'lantas': 0, 'as': 7, 'serang': 0, 'kasus': 0, 'total': 0, 'utara': 0, 'sehat https health detik com berita-detikhealth d-5816690 wilayah-kamu-sudah-bebas-covid-19-cek-34-kabkota-zona-hijau-terbaru': 0, 'cukup': 0, 'protokol': 0, 'langsung': 1, '86': 0, 'jakarta': 1, 'mulai': 3, 'tiga': 1, 'dki': 0, 'nadia': 0, 'putih': 0, 'prof': 1, 'baru jakarta': 0, 'djoerban': 1, 'pakar': 1, 'pfizer': 1, 'beta': 0, 'varian': 5, '3': 1, 'kemudian': 0, 'direktur': 0, 'ri': 11, 'alami': 1, 'ikat': 1, 'giat': 0, 'sakit': 0, 'persen': 0, 'ada': 0, 'medis': 0, 'tahun': 0, 'jelas': 0, 'aku': 1, 'ampuh': 2, 'musim': 0, 'efektivitas': 3, '15 11 2021': 0, 'hijau': 0, 'jelas jakarta': 0, 'serikat': 0, 'panas': 0, 'tarmizi': 0, 'anthony': 0, 'sehat': 0, 'rutin': 0, 'minggu': 0, 'singgung': 1, 'hingga': 0, 'kemenkes': 0, 'bukti': 1, 'november': 0, 'usai': 0, 'apa hal': 0, 'files google drive': 0, 'dadak': 0, 'tengah': 0, 'picu': 0, 'zubairi': 1, 'covid-19': 4, 'stabil': 0, 'balitbangkes': 0, 'kepala': 0, 'menteri': 0, 'padahal': 0, 'alpha': 0}, 'berita4.txt': {'': 546, 'batas': 0, 'data': 1, 'januari': 0, 'nasional': 0, 'pasti': 0, '34': 0, 'kasus dalam': 1, 'akhir': 1, 'shellclassinfo iconresource c program': 0, 'rencana': 0, 'banyak': 1, 'lawan': 0, 'jadi': 1, 'kaji turut': 0, 'signifikan': 1, 'vaksinasi': 0, 'https health detik com berita-detikhealth d-5812940 alert-kasus-varian-delta-covid-19-di-dki-meningkat': 1, 'dr': 0, 'catat': 0, 'masih': 0, 'perlu': 0, 'ketua': 0, 'ppkm': 0, 'sebut': 2, 'kendali': 0, '2022': 0, 'puncak': 0, 'namun': 0, 'umum': 0, 'turun': 0, 'nasihat': 0, 'hitung': 0, 'bakal': 0, '2': 2, 'awal': 0, 'beri': 1, 'jauh': 0, 'cegah': 0, 'cs jakarta': 0, 'dadak https health detik com berita-detikhealth d-5813949 corona-di-as-mendadak-naik-lagi-usai-serangan-delta-sempat-mereda': 0, 'bebas': 0, 'gantung': 0, 'tahap': 0, 'pasien': 0, 'kamu': 0, 'ingat': 0, 'naik': 0, 'area': 0, 'asal': 1, 'delta': 5, 'tular': 0, '1 327': 1, '-': 12, '90': 1, 'sekali': 0, 'per': 1, 'reda jakarta': 0, '1': 6, 'dosis': 0, 'baru jawab': 0, 'satu': 1, 'moderna': 0, 'influenza ketua': 0, 'alert': 2, '24': 0, 'suntik': 0, 'vaksin': 0, 'lagi https health detik com berita-detikhealth d-5816582 vaksin-covid-19-bakal-rutin-setiap-tahun-tergantung-ini-penjelasannya': 0, 'jawa': 1, 'tanya': 0, '57': 0, 'tambah': 2, 'corona': 0, 'ikut': 0, 'stream 80 0 1 0 googledrivefs exe 23': 0, 'indonesia': 1, 'perintah': 0, 'virus': 0, 'satgas': 0, 'terap': 0, 'tingkat': 2, 'file': 0, 'booster': 0, '1-2': 0, 'gelombang': 0, 'laut': 0, 'sampai': 0, 'kini': 0, 'strain': 0, 'desember': 0, 'ini': 0, 'pasca': 0, 'dokter': 0, 'barat': 1, 'jumlah': 0, 'mobilitas': 0, 'lalu': 0, 'laku': 0, 'guna': 0, 'gedung': 0, 'masyarakat': 0, 'zona': 0, 'level': 0, 'siti': 0, 'amerika': 0, 'cek': 0, 'kait': 0, '13': 1, 'senin': 0, 'tingkat jakarta': 1, 'sempat': 0, 'idi': 0, '165': 1, 'mungkin': 0, 'jenis': 0, 'timur': 0, 'memang': 0, 'bijak': 0, 'baru': 2, 'kab kota': 0, 'fauci': 0, 'sulawesi': 1, 'delta https health detik com berita-detikhealth d-5816534 ri-mulai-suntikkan-booster-di-2022-masihkah-ampuh-lawan-varian-delta-cs': 0, 'dasar': 0, '2021': 0, 'bulan': 1, 'longgar': 0, 'tahu': 0, 'turut': 0, 'wilayah': 0, 'tunjuk': 1, 'p2pml': 0, 'sementara': 1, 'riset': 0, 'lantas': 0, 'as': 8, 'serang': 0, 'kasus': 7, 'total': 1, 'utara': 1, 'sehat https health detik com berita-detikhealth d-5816690 wilayah-kamu-sudah-bebas-covid-19-cek-34-kabkota-zona-hijau-terbaru': 0, 'cukup': 0, 'protokol': 0, 'langsung': 0, '86': 1, 'jakarta': 4, 'mulai': 0, 'tiga': 0, 'dki': 5, 'nadia': 0, 'putih': 0, 'prof': 0, 'baru jakarta': 0, 'djoerban': 0, 'pakar': 0, 'pfizer': 0, 'beta': 1, 'varian': 7, '3': 2, 'kemudian': 0, 'direktur': 0, 'ri': 9, 'alami': 1, 'ikat': 0, 'giat': 0, 'sakit': 0, 'persen': 0, 'ada': 1, 'medis': 0, 'tahun': 0, 'jelas': 0, 'aku': 0, 'ampuh': 0, 'musim': 0, 'efektivitas': 0, '15 11 2021': 0, 'hijau': 0, 'jelas jakarta': 0, 'serikat': 0, 'panas': 0, 'tarmizi': 0, 'anthony': 0, 'sehat': 0, 'rutin': 0, 'minggu': 0, 'singgung': 0, 'hingga': 1, 'kemenkes': 1, 'bukti': 0, 'november': 1, 'usai': 0, 'apa hal': 0, 'files google drive': 0, 'dadak': 0, 'tengah': 0, 'picu': 0, 'zubairi': 0, 'covid-19': 2, 'stabil': 0, 'balitbangkes': 2, 'kepala': 0, 'menteri': 0, 'padahal': 0, 'alpha': 1}, 'berita5.txt': {'': 575, 'batas': 0, 'data': 0, 'januari': 0, 'nasional': 1, 'pasti': 0, '34': 0, 'kasus dalam': 0, 'akhir': 0, 'shellclassinfo iconresource c program': 0, 'rencana': 0, 'banyak': 0, 'lawan': 0, 'jadi': 0, 'kaji turut': 0, 'signifikan': 0, 'vaksinasi': 0, 'https health detik com berita-detikhealth d-5812940 alert-kasus-varian-delta-covid-19-di-dki-meningkat': 0, 'dr': 1, 'catat': 1, 'masih': 0, 'perlu': 0, 'ketua': 0, 'ppkm': 0, 'sebut': 1, 'kendali': 0, '2022': 0, 'puncak': 1, 'namun': 0, 'umum': 0, 'turun': 1, 'nasihat': 1, 'hitung': 0, 'bakal': 0, '2': 2, 'awal': 0, 'beri': 1, 'jauh': 0, 'cegah': 0, 'cs jakarta': 0, 'dadak https health detik com berita-detikhealth d-5813949 corona-di-as-mendadak-naik-lagi-usai-serangan-delta-sempat-mereda': 1, 'bebas': 0, 'gantung': 0, 'tahap': 0, 'pasien': 1, 'kamu': 0, 'ingat': 0, 'naik': 4, 'area': 1, 'asal': 0, 'delta': 4, 'tular': 0, '1 327': 0, '-': 16, '90': 0, 'sekali': 0, 'per': 1, 'reda jakarta': 1, '1': 8, 'dosis': 0, 'baru jawab': 0, 'satu': 0, 'moderna': 0, 'influenza ketua': 0, 'alert': 0, '24': 0, 'suntik': 0, 'vaksin': 0, 'lagi https health detik com berita-detikhealth d-5816582 vaksin-covid-19-bakal-rutin-setiap-tahun-tergantung-ini-penjelasannya': 0, 'jawa': 0, 'tanya': 0, '57': 1, 'tambah': 0, 'corona': 2, 'ikut': 0, 'stream 80 0 1 0 googledrivefs exe 23': 0, 'indonesia': 0, 'perintah': 0, 'virus': 0, 'satgas': 0, 'terap': 0, 'tingkat': 0, 'file': 0, 'booster': 0, '1-2': 0, 'gelombang': 1, 'laut': 1, 'sampai': 1, 'kini': 1, 'strain': 0, 'desember': 0, 'ini': 2, 'pasca': 1, 'dokter': 0, 'barat': 1, 'jumlah': 2, 'mobilitas': 0, 'lalu': 1, 'laku': 0, 'guna': 0, 'gedung': 1, 'masyarakat': 0, 'zona': 0, 'level': 0, 'siti': 0, 'amerika': 1, 'cek': 0, 'kait': 0, '13': 1, 'senin': 1, 'tingkat jakarta': 0, 'sempat': 3, 'idi': 0, '165': 0, 'mungkin': 0, 'jenis': 0, 'timur': 1, 'memang': 0, 'bijak': 0, 'baru': 0, 'kab kota': 0, 'fauci': 1, 'sulawesi': 0, 'delta https health detik com berita-detikhealth d-5816534 ri-mulai-suntikkan-booster-di-2022-masihkah-ampuh-lawan-varian-delta-cs': 0, 'dasar': 0, '2021': 1, 'bulan': 0, 'longgar': 0, 'tahu': 2, 'turut': 0, 'wilayah': 1, 'tunjuk': 0, 'p2pml': 0, 'sementara': 0, 'riset': 0, 'lantas': 0, 'as': 11, 'serang': 3, 'kasus': 2, 'total': 0, 'utara': 0, 'sehat https health detik com berita-detikhealth d-5816690 wilayah-kamu-sudah-bebas-covid-19-cek-34-kabkota-zona-hijau-terbaru': 0, 'cukup': 0, 'protokol': 0, 'langsung': 0, '86': 0, 'jakarta': 1, 'mulai': 0, 'tiga': 0, 'dki': 0, 'nadia': 0, 'putih': 1, 'prof': 0, 'baru jakarta': 0, 'djoerban': 0, 'pakar': 0, 'pfizer': 0, 'beta': 0, 'varian': 2, '3': 1, 'kemudian': 0, 'direktur': 0, 'ri': 5, 'alami': 0, 'ikat': 1, 'giat': 0, 'sakit': 0, 'persen': 1, 'ada': 4, 'medis': 1, 'tahun': 0, 'jelas': 0, 'aku': 0, 'ampuh': 0, 'musim': 2, 'efektivitas': 0, '15 11 2021': 1, 'hijau': 0, 'jelas jakarta': 0, 'serikat': 1, 'panas': 2, 'tarmizi': 0, 'anthony': 1, 'sehat': 0, 'rutin': 0, 'minggu': 1, 'singgung': 0, 'hingga': 0, 'kemenkes': 0, 'bukti': 0, 'november': 0, 'usai': 2, 'apa hal': 1, 'files google drive': 0, 'dadak': 3, 'tengah': 1, 'picu': 0, 'zubairi': 0, 'covid-19': 3, 'stabil': 1, 'balitbangkes': 0, 'kepala': 1, 'menteri': 0, 'padahal': 1, 'alpha': 0}, 'desktop.ini': {'': 99, 'batas': 0, 'data': 0, 'januari': 0, 'nasional': 0, 'pasti': 0, '34': 0, 'kasus dalam': 0, 'akhir': 0, 'shellclassinfo iconresource c program': 1, 'rencana': 0, 'banyak': 0, 'lawan': 0, 'jadi': 0, 'kaji turut': 0, 'signifikan': 0, 'vaksinasi': 0, 'https health detik com berita-detikhealth d-5812940 alert-kasus-varian-delta-covid-19-di-dki-meningkat': 0, 'dr': 2, 'catat': 0, 'masih': 0, 'perlu': 0, 'ketua': 0, 'ppkm': 0, 'sebut': 0, 'kendali': 0, '2022': 0, 'puncak': 0, 'namun': 0, 'umum': 0, 'turun': 0, 'nasihat': 0, 'hitung': 0, 'bakal': 0, '2': 1, 'awal': 0, 'beri': 0, 'jauh': 0, 'cegah': 0, 'cs jakarta': 0, 'dadak https health detik com berita-detikhealth d-5813949 corona-di-as-mendadak-naik-lagi-usai-serangan-delta-sempat-mereda': 0, 'bebas': 0, 'gantung': 0, 'tahap': 0, 'pasien': 0, 'kamu': 0, 'ingat': 0, 'naik': 0, 'area': 0, 'asal': 0, 'delta': 0, 'tular': 0, '1 327': 0, '-': 0, '90': 0, 'sekali': 0, 'per': 0, 'reda jakarta': 0, '1': 1, 'dosis': 0, 'baru jawab': 0, 'satu': 0, 'moderna': 0, 'influenza ketua': 0, 'alert': 0, '24': 0, 'suntik': 0, 'vaksin': 0, 'lagi https health detik com berita-detikhealth d-5816582 vaksin-covid-19-bakal-rutin-setiap-tahun-tergantung-ini-penjelasannya': 0, 'jawa': 0, 'tanya': 0, '57': 0, 'tambah': 0, 'corona': 0, 'ikut': 0, 'stream 80 0 1 0 googledrivefs exe 23': 1, 'indonesia': 0, 'perintah': 0, 'virus': 0, 'satgas': 0, 'terap': 0, 'tingkat': 0, 'file': 2, 'booster': 0, '1-2': 0, 'gelombang': 0, 'laut': 0, 'sampai': 0, 'kini': 0, 'strain': 0, 'desember': 0, 'ini': 0, 'pasca': 0, 'dokter': 0, 'barat': 0, 'jumlah': 0, 'mobilitas': 0, 'lalu': 0, 'laku': 0, 'guna': 0, 'gedung': 0, 'masyarakat': 0, 'zona': 0, 'level': 0, 'siti': 0, 'amerika': 0, 'cek': 0, 'kait': 0, '13': 0, 'senin': 0, 'tingkat jakarta': 0, 'sempat': 0, 'idi': 0, '165': 0, 'mungkin': 0, 'jenis': 0, 'timur': 0, 'memang': 0, 'bijak': 0, 'baru': 0, 'kab kota': 0, 'fauci': 0, 'sulawesi': 0, 'delta https health detik com berita-detikhealth d-5816534 ri-mulai-suntikkan-booster-di-2022-masihkah-ampuh-lawan-varian-delta-cs': 0, 'dasar': 0, '2021': 0, 'bulan': 0, 'longgar': 0, 'tahu': 0, 'turut': 0, 'wilayah': 0, 'tunjuk': 0, 'p2pml': 0, 'sementara': 0, 'riset': 0, 'lantas': 0, 'as': 1, 'serang': 0, 'kasus': 0, 'total': 0, 'utara': 0, 'sehat https health detik com berita-detikhealth d-5816690 wilayah-kamu-sudah-bebas-covid-19-cek-34-kabkota-zona-hijau-terbaru': 0, 'cukup': 0, 'protokol': 0, 'langsung': 0, '86': 0, 'jakarta': 0, 'mulai': 0, 'tiga': 0, 'dki': 0, 'nadia': 0, 'putih': 0, 'prof': 0, 'baru jakarta': 0, 'djoerban': 0, 'pakar': 0, 'pfizer': 0, 'beta': 0, 'varian': 0, '3': 1, 'kemudian': 0, 'direktur': 0, 'ri': 2, 'alami': 0, 'ikat': 0, 'giat': 0, 'sakit': 0, 'persen': 0, 'ada': 0, 'medis': 0, 'tahun': 0, 'jelas': 0, 'aku': 0, 'ampuh': 0, 'musim': 0, 'efektivitas': 0, '15 11 2021': 0, 'hijau': 0, 'jelas jakarta': 0, 'serikat': 0, 'panas': 0, 'tarmizi': 0, 'anthony': 0, 'sehat': 0, 'rutin': 0, 'minggu': 0, 'singgung': 0, 'hingga': 0, 'kemenkes': 0, 'bukti': 0, 'november': 0, 'usai': 0, 'apa hal': 0, 'files google drive': 1, 'dadak': 0, 'tengah': 0, 'picu': 0, 'zubairi': 0, 'covid-19': 0, 'stabil': 0, 'balitbangkes': 0, 'kepala': 0, 'menteri': 0, 'padahal': 0, 'alpha': 0}}\n"
     ]
    }
   ],
   "source": [
    "import os\n",
    "import numpy as np\n",
    "from Sastrawi.Stemmer.StemmerFactory import StemmerFactory\n",
    "from Sastrawi.StopWordRemover.StopWordRemoverFactory import StopWordRemoverFactory\n",
    "from nltk.tokenize import word_tokenize\n",
    "\n",
    "# Inisialisasi Stemmer dan Stopword Remover\n",
    "stemmer_factory = StemmerFactory()\n",
    "stemmer = stemmer_factory.create_stemmer()\n",
    "\n",
    "stopword_factory = StopWordRemoverFactory()\n",
    "stopword_remover = stopword_factory.create_stop_word_remover()\n",
    "\n",
    "# Inisialisasi inverted index dan dokumen yang sudah ditemukan\n",
    "inverted_index = {}\n",
    "documents_found = set()\n",
    "doc_dict = {}  # Dictionary to store the contents of documents\n",
    "vocab = set()  # Vocabulary set\n",
    "\n",
    "# Path ke folder \"berita\"\n",
    "path = \"C:/Users/FEZA/My Drive/00. Drive PC/1.STIS/5. Semester 5/Information Retrieval [IR] P/Pertemuan 3/berita\"\n",
    "\n",
    "# Iterasi ke semua file di folder berita\n",
    "for file in os.listdir(path):\n",
    "    if os.path.isfile(os.path.join(path, file)):\n",
    "        with open(os.path.join(path, file), 'r', encoding='utf-8') as f:\n",
    "            content = f.read().lower()  # Case folding\n",
    "\n",
    "            # Tokenization\n",
    "            words = content.split(\" \")\n",
    "\n",
    "            # Menghilangkan stopword dan dilakukan stemming\n",
    "            filtered_words = [stemmer.stem(stopword_remover.remove(word)) for word in words]\n",
    "\n",
    "            # Membangun inverted index\n",
    "            for term in filtered_words:\n",
    "                if term not in inverted_index:\n",
    "                    inverted_index[term] = [file]\n",
    "                elif file not in inverted_index[term]:\n",
    "                    inverted_index[term].append(file)\n",
    "\n",
    "            # Store the document content in doc_dict\n",
    "            doc_dict[file] = \" \".join(filtered_words)\n",
    "\n",
    "            # Update the vocabulary set\n",
    "            vocab.update(filtered_words)\n",
    "# print(doc_dict)\n",
    "\n",
    "print(termFrequencyInDoc(vocab, doc_dict))  #ini gara2 spasinya ke token\n",
    "idf_scr = inverseDocFre(vocab,wordDocFre(vocab, doc_dict), len(doc_dict))\n",
    "tf_idf = tfidf(vocab, termFrequencyInDoc(vocab, doc_dict), idf_scr, doc_dict)\n",
    "\n",
    "# Term - Document Matrix\n",
    "TD = np.zeros((len(vocab), len(doc_dict)))\n",
    "for word in vocab:\n",
    "    for doc_id, doc in tf_idf.items():\n",
    "        ind1 = list(vocab).index(word)\n",
    "        ind2 = list(tf_idf.keys()).index(doc_id)\n",
    "        TD[ind1][ind2] = tf_idf[doc_id][word]\n",
    "\n",
    "# Now, TD contains the Term-Document Matrix\n"
   ]
  },
  {
   "cell_type": "code",
   "execution_count": 48,
   "metadata": {},
   "outputs": [
    {
     "name": "stdout",
     "output_type": "stream",
     "text": [
      "[[1682.11469511 1699.790156   2035.623913   1608.46694138 1693.89833571\n",
      "   291.64510476]\n",
      " [   2.25276297    0.            0.            0.            0.\n",
      "     0.        ]\n",
      " [   0.            0.            0.            2.25276297    0.\n",
      "     0.        ]\n",
      " ...\n",
      " [   2.25276297    0.            0.            0.            0.\n",
      "     0.        ]\n",
      " [   0.            0.            0.            0.            2.25276297\n",
      "     0.        ]\n",
      " [   0.            0.            0.            2.25276297    0.\n",
      "     0.        ]]\n"
     ]
    }
   ],
   "source": [
    "print(TD)"
   ]
  },
  {
   "cell_type": "markdown",
   "metadata": {},
   "source": [
    "#### 2. Dari 5 file pada folder ”berita”, hitung skor kemiripan antara berita yang satu dan lainnya masing-masing dengan edit distance, jaccard similarity, euclidian distance, dan cosine similarity"
   ]
  },
  {
   "cell_type": "code",
   "execution_count": null,
   "metadata": {},
   "outputs": [],
   "source": []
  }
 ],
 "metadata": {
  "kernelspec": {
   "display_name": "base",
   "language": "python",
   "name": "python3"
  },
  "language_info": {
   "codemirror_mode": {
    "name": "ipython",
    "version": 3
   },
   "file_extension": ".py",
   "mimetype": "text/x-python",
   "name": "python",
   "nbconvert_exporter": "python",
   "pygments_lexer": "ipython3",
   "version": "3.11.4"
  },
  "orig_nbformat": 4
 },
 "nbformat": 4,
 "nbformat_minor": 2
}
