{
 "cells": [
  {
   "cell_type": "code",
   "execution_count": 20,
   "metadata": {},
   "outputs": [],
   "source": [
    "def tokenisasi(text):\n",
    "    tokens = text.split(\" \")\n",
    "    return tokens\n",
    "\n",
    "def stemming(text):\n",
    "    from Sastrawi.Stemmer.StemmerFactory import StemmerFactory\n",
    "    # create stemmer\n",
    "    factory = StemmerFactory()\n",
    "    stemmer = factory.create_stemmer()\n",
    "    # stemming process\n",
    "    output = stemmer.stem(text)\n",
    "    return output\n",
    "\n",
    "def stemming_sentence(text):\n",
    "    output = \"\"\n",
    "    for token in tokenisasi(text):\n",
    "        output = output + stemming(token) + \" \"\n",
    "    return output[:-1]"
   ]
  },
  {
   "cell_type": "code",
   "execution_count": 21,
   "metadata": {},
   "outputs": [],
   "source": [
    "doc_dict_raw = {}\n",
    "doc_dict_raw['doc1'] = \"pengembangan sistem informasi penjadwalan\"\n",
    "doc_dict_raw['doc2'] = \"pengembangan model analisis sentimen berita\"\n",
    "doc_dict_raw['doc3'] = \"analisis sistem input output\"\n",
    "doc_dict_raw['doc4'] = \"pengembangan sistem informasi akademik universitas\"\n",
    "doc_dict_raw['doc5'] = \"pengembangan sistem cari berita ekonomi\"\n",
    "doc_dict_raw['doc6'] = \"analisis sistem neraca nasional\"\n",
    "doc_dict_raw['doc7'] = \"pengembangan sistem informasi layanan statistik\"\n",
    "doc_dict_raw['doc8'] = \"pengembangan sistem pencarian skripsi di universitas\"\n",
    "doc_dict_raw['doc9'] = \"analisis sentimen publik terhadap pemerintah\"\n",
    "doc_dict_raw['doc10'] = \"pengembangan model klasifikasi sentimen berita\"\n",
    "doc_dict = {}\n",
    "for doc_id,doc in doc_dict_raw.items():\n",
    "    doc_dict[doc_id] = stemming_sentence(doc)\n",
    "\n",
    "query = \"sistem informasi statistik\"\n",
    "tokenized_query = tokenisasi(query)"
   ]
  },
  {
   "cell_type": "code",
   "execution_count": 22,
   "metadata": {},
   "outputs": [
    {
     "name": "stdout",
     "output_type": "stream",
     "text": [
      "{'doc1': 0.0, 'doc2': 0.0, 'doc3': 0.0, 'doc4': 0.0, 'doc5': 0.0, 'doc6': 0.0, 'doc7': 0.008, 'doc8': 0.0, 'doc9': 0.0, 'doc10': 0.0}\n",
      "\n",
      "Top 5 Dokumen:\n",
      "{'doc7': 0.008, 'doc1': 0.0, 'doc2': 0.0, 'doc3': 0.0, 'doc4': 0.0}\n"
     ]
    }
   ],
   "source": [
    "# standar query likelihood model\n",
    "likelihood_scores = {}\n",
    "vocab = set()\n",
    "for doc_id in doc_dict.keys():\n",
    "    likelihood_scores[doc_id] = 1\n",
    "    tokens = tokenisasi(doc_dict[doc_id])\n",
    "    vocab.update(tokens)\n",
    "    for q in tokenized_query:\n",
    "        likelihood_scores[doc_id]=likelihood_scores[doc_id]*tokens.count(q)/len(tokens)\n",
    "        \n",
    "print(likelihood_scores)\n",
    "\n",
    "from collections import OrderedDict\n",
    "\n",
    "def exact_top_k(doc_dict, rank_score, k):\n",
    "    relevance_scores = {}\n",
    "    # mengubah rank_score menjadi list\n",
    "    rank_score = list(rank_score.values())\n",
    "    i = 0\n",
    "    for doc_id in doc_dict.keys():\n",
    "        relevance_scores[doc_id] = rank_score[i]\n",
    "        i = i + 1\n",
    "\n",
    "    sorted_value = OrderedDict(sorted(relevance_scores.items(), key=lambda x: x[1], reverse = True))\n",
    "    top_k = {j: sorted_value[j] for j in list(sorted_value)[:k]}\n",
    "    return top_k\n",
    "\n",
    "top_5 = exact_top_k(doc_dict, likelihood_scores, 5)\n",
    "print(\"\\nTop 5 Dokumen:\")\n",
    "print(top_5)"
   ]
  },
  {
   "cell_type": "code",
   "execution_count": 23,
   "metadata": {},
   "outputs": [
    {
     "name": "stdout",
     "output_type": "stream",
     "text": [
      "{'skripsi', 'jadwal', 'output', 'ekonomi', 'neraca', 'cari', 'statistik', 'universitas', 'di', 'perintah', 'informasi', 'kembang', 'nasional', 'analisis', 'model', 'berita', 'klasifikasi', 'sistem', 'akademik', 'sentimen', 'publik', 'layan', 'hadap', 'input'}\n"
     ]
    }
   ],
   "source": [
    "tokenized_corpus = [j for sub in [tokenisasi(doc_dict[doc_id]) for doc_id in doc_dict] for j in sub]\n",
    "vocab = set(tokenized_corpus)\n",
    "\n",
    "print(vocab)"
   ]
  },
  {
   "cell_type": "code",
   "execution_count": 24,
   "metadata": {},
   "outputs": [
    {
     "name": "stdout",
     "output_type": "stream",
     "text": [
      "{'doc1': 0.00018221574344023323, 'doc2': 4.1002091106646436e-05, 'doc3': 9.110787172011662e-05, 'doc4': 0.00016400836442658574, 'doc5': 8.200418221329287e-05, 'doc6': 9.110787172011662e-05, 'doc7': 0.0003280167288531715, 'doc8': 7.407407407407407e-05, 'doc9': 4.1002091106646436e-05, 'doc10': 4.1002091106646436e-05}\n",
      "\n",
      "Top 5 Dokumen:\n",
      "{'doc7': 0.0003280167288531715, 'doc1': 0.00018221574344023323, 'doc4': 0.00016400836442658574, 'doc3': 9.110787172011662e-05, 'doc6': 9.110787172011662e-05}\n"
     ]
    }
   ],
   "source": [
    "# Laplace Smoothing pada query likelihood model\n",
    "alpha = 1\n",
    "likelihood_scores = {}\n",
    "for doc_id in doc_dict.keys():\n",
    "    likelihood_scores[doc_id] = 1\n",
    "    tokens = tokenisasi(doc_dict[doc_id])\n",
    "    for q in tokenized_query:\n",
    "        likelihood_scores[doc_id]=likelihood_scores[doc_id]*(tokens.count(q)+alpha)/(len(tokens)+len(vocab)*alpha)\n",
    "\n",
    "print(likelihood_scores)\n",
    "\n",
    "top_5 = exact_top_k(doc_dict, likelihood_scores, 5)\n",
    "print(\"\\nTop 5 Dokumen:\")\n",
    "print(top_5)"
   ]
  },
  {
   "cell_type": "code",
   "execution_count": 25,
   "metadata": {},
   "outputs": [
    {
     "name": "stdout",
     "output_type": "stream",
     "text": [
      "{'doc1': 0.0003221299913194445, 'doc2': 2.3735894097222223e-05, 'doc3': 6.442599826388889e-05, 'doc4': 0.00023640950520833334, 'doc5': 5.628797743055555e-05, 'doc6': 6.442599826388889e-05, 'doc7': 0.0025059407552083337, 'doc8': 5.086263020833333e-05, 'doc9': 2.3735894097222223e-05, 'doc10': 2.3735894097222223e-05}\n",
      "\n",
      "Top 5 Dokumen:\n",
      "{'doc7': 0.0025059407552083337, 'doc1': 0.0003221299913194445, 'doc4': 0.00023640950520833334, 'doc3': 6.442599826388889e-05, 'doc6': 6.442599826388889e-05}\n"
     ]
    }
   ],
   "source": [
    "# Jelinek-Mercer Smoothing pada query likelihood model\n",
    "lamda = 0.5\n",
    "likelihood_scores = {}\n",
    "for doc_id in doc_dict.keys():\n",
    "    likelihood_scores[doc_id] = 1\n",
    "    tokens = tokenisasi(doc_dict[doc_id])\n",
    "    for q in tokenized_query:\n",
    "        likelihood_scores[doc_id]=likelihood_scores[doc_id]*((lamda*tokens.count(q)/len(tokens))+((1-lamda)*tokenized_corpus.count(q)/len(tokenized_corpus)))\n",
    "\n",
    "print(likelihood_scores)\n",
    "\n",
    "top_5 = exact_top_k(doc_dict, likelihood_scores, 5)\n",
    "print(\"\\nTop 5 Dokumen:\")\n",
    "print(top_5)"
   ]
  },
  {
   "cell_type": "code",
   "execution_count": 26,
   "metadata": {},
   "outputs": [
    {
     "name": "stdout",
     "output_type": "stream",
     "text": [
      "{'doc1': 0.0002803096064814815, 'doc2': 4.428854875283447e-06, 'doc3': 3.114551183127572e-05, 'doc4': 0.00017652150145772597, 'doc5': 1.961350016196955e-05, 'doc6': 3.114551183127572e-05, 'doc7': 0.004413037536443149, 'doc8': 1.3139512803819445e-05, 'doc9': 4.428854875283447e-06, 'doc10': 4.428854875283447e-06}\n",
      "\n",
      "Top 5 Dokumen:\n",
      "{'doc7': 0.004413037536443149, 'doc1': 0.0002803096064814815, 'doc4': 0.00017652150145772597, 'doc3': 3.114551183127572e-05, 'doc6': 3.114551183127572e-05}\n"
     ]
    }
   ],
   "source": [
    "# Dirichlet Smoothing pada query likelihood model\n",
    "miu = 2\n",
    "likelihood_scores = {}\n",
    "for doc_id in doc_dict.keys():\n",
    "    likelihood_scores[doc_id] = 1\n",
    "    tokens = tokenisasi(doc_dict[doc_id])\n",
    "    for q in tokenized_query:\n",
    "        likelihood_scores[doc_id]=likelihood_scores[doc_id]*(tokens.count(q)+miu*tokenized_corpus.count(q)/len(tokenized_corpus))/(len(tokens)+miu)\n",
    "\n",
    "print(likelihood_scores)\n",
    "\n",
    "top_5 = exact_top_k(doc_dict, likelihood_scores, 5)\n",
    "print(\"\\nTop 5 Dokumen:\")\n",
    "print(top_5)"
   ]
  }
 ],
 "metadata": {
  "kernelspec": {
   "display_name": "base",
   "language": "python",
   "name": "python3"
  },
  "language_info": {
   "codemirror_mode": {
    "name": "ipython",
    "version": 3
   },
   "file_extension": ".py",
   "mimetype": "text/x-python",
   "name": "python",
   "nbconvert_exporter": "python",
   "pygments_lexer": "ipython3",
   "version": "3.11.3"
  }
 },
 "nbformat": 4,
 "nbformat_minor": 2
}
